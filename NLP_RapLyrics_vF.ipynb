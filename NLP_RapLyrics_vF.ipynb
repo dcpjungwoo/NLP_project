{
 "cells": [
  {
   "cell_type": "code",
   "execution_count": 609,
   "metadata": {
    "ExecuteTime": {
     "end_time": "2020-02-26T21:07:45.216806Z",
     "start_time": "2020-02-26T21:07:45.195539Z"
    }
   },
   "outputs": [
    {
     "data": {
      "text/html": [
       "<style>.container { width:95% !important; }</style>"
      ],
      "text/plain": [
       "<IPython.core.display.HTML object>"
      ]
     },
     "metadata": {},
     "output_type": "display_data"
    }
   ],
   "source": [
    "import pandas as pd\n",
    "import numpy as np\n",
    "\n",
    "from IPython.core.display import display, HTML\n",
    "display(HTML(\"<style>.container { width:95% !important; }</style>\"))\n",
    "\n",
    "import nltk\n",
    "\n",
    "import matplotlib.pyplot as plt\n",
    "import seaborn as sns\n",
    "\n",
    "%matplotlib inline"
   ]
  },
  {
   "cell_type": "code",
   "execution_count": null,
   "metadata": {},
   "outputs": [],
   "source": [
    "pd.set_option('display.max_columns', None)\n",
    "pd.set_option('display.max_rows', 50)\n",
    "pd.set_option('display.precision', 2)\n",
    "pd.set_option('display.float_format', lambda x: '%.2f' % x)"
   ]
  },
  {
   "cell_type": "markdown",
   "metadata": {},
   "source": [
    "## Data Collection \n",
    "\n",
    "- Obtained song lyrics from Kaggle\n",
    "- Create dataframe using just rap music with english lyrics"
   ]
  },
  {
   "cell_type": "code",
   "execution_count": 661,
   "metadata": {
    "ExecuteTime": {
     "end_time": "2020-02-26T22:41:32.210067Z",
     "start_time": "2020-02-26T22:41:12.797503Z"
    }
   },
   "outputs": [],
   "source": [
    "df = pd.read_csv('lyrics_features.csv')\n",
    "df2 = pd.read_csv('parts_dataset.csv')\n",
    "df3 = pd.read_csv('songs_dataset.csv')"
   ]
  },
  {
   "cell_type": "code",
   "execution_count": 102,
   "metadata": {
    "ExecuteTime": {
     "end_time": "2020-02-24T19:22:28.089887Z",
     "start_time": "2020-02-24T19:22:28.068401Z"
    }
   },
   "outputs": [
    {
     "data": {
      "text/html": [
       "<div>\n",
       "<style scoped>\n",
       "    .dataframe tbody tr th:only-of-type {\n",
       "        vertical-align: middle;\n",
       "    }\n",
       "\n",
       "    .dataframe tbody tr th {\n",
       "        vertical-align: top;\n",
       "    }\n",
       "\n",
       "    .dataframe thead th {\n",
       "        text-align: right;\n",
       "    }\n",
       "</style>\n",
       "<table border=\"1\" class=\"dataframe\">\n",
       "  <thead>\n",
       "    <tr style=\"text-align: right;\">\n",
       "      <th></th>\n",
       "      <th>Singer</th>\n",
       "      <th>Album</th>\n",
       "      <th>Song</th>\n",
       "      <th>Date</th>\n",
       "      <th>Featuring</th>\n",
       "      <th>Genre</th>\n",
       "      <th>Lyrics</th>\n",
       "      <th>Tags</th>\n",
       "      <th>Producers</th>\n",
       "      <th>Writers</th>\n",
       "    </tr>\n",
       "  </thead>\n",
       "  <tbody>\n",
       "    <tr>\n",
       "      <td>0</td>\n",
       "      <td>$UICIDEBOY$</td>\n",
       "      <td>7th or St. Tammany</td>\n",
       "      <td>40 Oz. &amp; Sober</td>\n",
       "      <td>2015-04-02</td>\n",
       "      <td>[]</td>\n",
       "      <td>['Alternative/Indie', 'Hip-Hop/Rap']</td>\n",
       "      <td>\\n\\n[Hook: Gangsta Pat]\\nKiller, killer, kille...</td>\n",
       "      <td>['Alternative', 'Rap']</td>\n",
       "      <td>['Jck Ruby']</td>\n",
       "      <td>['Scott Arceneaux Jr.', 'Aristos Petrou']</td>\n",
       "    </tr>\n",
       "    <tr>\n",
       "      <td>1</td>\n",
       "      <td>$UICIDEBOY$</td>\n",
       "      <td>7th or St. Tammany</td>\n",
       "      <td>7th or St. Tammany</td>\n",
       "      <td>2015-04-02</td>\n",
       "      <td>[]</td>\n",
       "      <td>['Hip-Hop/Rap']</td>\n",
       "      <td>\\n\\nUh\\n*59, yah!\\nUhhhh, [?]\\n*59 motherfucke...</td>\n",
       "      <td>['Rap']</td>\n",
       "      <td>['Budd Dwyer']</td>\n",
       "      <td>['Scott Arceneaux Jr.', 'Aristos Petrou', 'Mas...</td>\n",
       "    </tr>\n",
       "    <tr>\n",
       "      <td>2</td>\n",
       "      <td>$UICIDEBOY$</td>\n",
       "      <td>7th or St. Tammany</td>\n",
       "      <td>Dead Batteries</td>\n",
       "      <td>2015-03-19</td>\n",
       "      <td>[]</td>\n",
       "      <td>['Hip-Hop/Rap']</td>\n",
       "      <td>\\n\\n[Produced by Budd Dwyer]\\n\\n[Intro: Frayse...</td>\n",
       "      <td>['Rap']</td>\n",
       "      <td>['Budd Dwyer']</td>\n",
       "      <td>['Scott Arceneaux Jr.', 'Aristos Petrou']</td>\n",
       "    </tr>\n",
       "    <tr>\n",
       "      <td>3</td>\n",
       "      <td>$UICIDEBOY$</td>\n",
       "      <td>7th or St. Tammany</td>\n",
       "      <td>Drugs/Hoes/Money/Etc.</td>\n",
       "      <td>2015-04-02</td>\n",
       "      <td>[]</td>\n",
       "      <td>['Hip-Hop/Rap']</td>\n",
       "      <td>\\n\\n[Verse 1: YUNG $NOW]\\nCounting sheep until...</td>\n",
       "      <td>['Rap']</td>\n",
       "      <td>['Budd Dwyer']</td>\n",
       "      <td>['Scott Arceneaux Jr.', 'Aristos Petrou']</td>\n",
       "    </tr>\n",
       "    <tr>\n",
       "      <td>4</td>\n",
       "      <td>$UICIDEBOY$</td>\n",
       "      <td>7th or St. Tammany</td>\n",
       "      <td>I’ll Pay for It (If I Want It)</td>\n",
       "      <td>2015-04-02</td>\n",
       "      <td>[]</td>\n",
       "      <td>['Hip-Hop/Rap']</td>\n",
       "      <td>\\n\\n[Verse 1: RUBY DA CHERRY]\\nFucking Ruby go...</td>\n",
       "      <td>['Rap']</td>\n",
       "      <td>['Budd Dwyer']</td>\n",
       "      <td>['Scott Arceneaux Jr.', 'Aristos Petrou']</td>\n",
       "    </tr>\n",
       "  </tbody>\n",
       "</table>\n",
       "</div>"
      ],
      "text/plain": [
       "        Singer               Album                            Song  \\\n",
       "0  $UICIDEBOY$  7th or St. Tammany                  40 Oz. & Sober   \n",
       "1  $UICIDEBOY$  7th or St. Tammany              7th or St. Tammany   \n",
       "2  $UICIDEBOY$  7th or St. Tammany                  Dead Batteries   \n",
       "3  $UICIDEBOY$  7th or St. Tammany           Drugs/Hoes/Money/Etc.   \n",
       "4  $UICIDEBOY$  7th or St. Tammany  I’ll Pay for It (If I Want It)   \n",
       "\n",
       "         Date Featuring                                 Genre  \\\n",
       "0  2015-04-02        []  ['Alternative/Indie', 'Hip-Hop/Rap']   \n",
       "1  2015-04-02        []                       ['Hip-Hop/Rap']   \n",
       "2  2015-03-19        []                       ['Hip-Hop/Rap']   \n",
       "3  2015-04-02        []                       ['Hip-Hop/Rap']   \n",
       "4  2015-04-02        []                       ['Hip-Hop/Rap']   \n",
       "\n",
       "                                              Lyrics                    Tags  \\\n",
       "0  \\n\\n[Hook: Gangsta Pat]\\nKiller, killer, kille...  ['Alternative', 'Rap']   \n",
       "1  \\n\\nUh\\n*59, yah!\\nUhhhh, [?]\\n*59 motherfucke...                 ['Rap']   \n",
       "2  \\n\\n[Produced by Budd Dwyer]\\n\\n[Intro: Frayse...                 ['Rap']   \n",
       "3  \\n\\n[Verse 1: YUNG $NOW]\\nCounting sheep until...                 ['Rap']   \n",
       "4  \\n\\n[Verse 1: RUBY DA CHERRY]\\nFucking Ruby go...                 ['Rap']   \n",
       "\n",
       "        Producers                                            Writers  \n",
       "0    ['Jck Ruby']          ['Scott Arceneaux Jr.', 'Aristos Petrou']  \n",
       "1  ['Budd Dwyer']  ['Scott Arceneaux Jr.', 'Aristos Petrou', 'Mas...  \n",
       "2  ['Budd Dwyer']          ['Scott Arceneaux Jr.', 'Aristos Petrou']  \n",
       "3  ['Budd Dwyer']          ['Scott Arceneaux Jr.', 'Aristos Petrou']  \n",
       "4  ['Budd Dwyer']          ['Scott Arceneaux Jr.', 'Aristos Petrou']  "
      ]
     },
     "execution_count": 102,
     "metadata": {},
     "output_type": "execute_result"
    }
   ],
   "source": [
    "df3.head()"
   ]
  },
  {
   "cell_type": "code",
   "execution_count": 5,
   "metadata": {
    "ExecuteTime": {
     "end_time": "2020-02-23T21:48:27.788109Z",
     "start_time": "2020-02-23T21:48:27.578433Z"
    }
   },
   "outputs": [],
   "source": [
    "df3['id'] = df3['Singer']+df3['Song']\n",
    "df2['id'] = df2['Singer']+df2['Song']"
   ]
  },
  {
   "cell_type": "code",
   "execution_count": 7,
   "metadata": {
    "ExecuteTime": {
     "end_time": "2020-02-23T21:48:30.427003Z",
     "start_time": "2020-02-23T21:48:27.988686Z"
    }
   },
   "outputs": [],
   "source": [
    "df_m = pd.merge(df2, df3[['id','Date','Genre','Tags']], how = 'left', on = 'id')\n",
    "df_m.drop(columns = ['id'], inplace = True)\n",
    "df_m['Year'] = df_m['Date'].str[:4]\n",
    "df_m['Part Lyrics'] = df_m['Part Lyrics'].str.replace('\\n', ' ')"
   ]
  },
  {
   "cell_type": "code",
   "execution_count": 8,
   "metadata": {
    "ExecuteTime": {
     "end_time": "2020-02-23T21:48:31.275810Z",
     "start_time": "2020-02-23T21:48:30.432762Z"
    }
   },
   "outputs": [],
   "source": [
    "hh_df = df_m[(df_m.Genre.str.contains('Rap'))&(df_m['Part Name'] == 'Verse')]"
   ]
  },
  {
   "cell_type": "code",
   "execution_count": 670,
   "metadata": {
    "ExecuteTime": {
     "end_time": "2020-02-26T22:50:05.721872Z",
     "start_time": "2020-02-26T22:50:05.709715Z"
    }
   },
   "outputs": [],
   "source": [
    "rappers = ['Animal ДжаZ','Аквариум','Ёлка', 'Аффинаж', 'БИ-2', 'Баста', 'Борис Гребенщиков', 'Бьянка',\n",
    "       'Вера Брежнева', 'Время и Стекло', 'Гарри Топор',\n",
    "       'Гражданская оборона', 'Гречка', 'Грязь', 'Гуф', 'Децл', 'Джиган',\n",
    "       'Дима Билан', 'Егор Крид', 'Егор Натс', 'Ежемесячные',\n",
    "       'Елена Темникова', 'Жак-Энтони', 'Замай', 'Зараза', 'Земфира',\n",
    "       'Иван Дорн', 'Ка-тет', 'Карандаш', 'Каспийский Груз', 'Каста',\n",
    "       'Кино', 'Кровосток', 'ЛСП', 'Леван Горозия', 'Луперкаль',\n",
    "       'МЫ / WE', 'Макс Корж', 'Мот', 'Мэйти', 'Ноггано', 'Овсянкин',\n",
    "       'Пасош', 'Пика', 'СД', 'Сектор газа', 'Сергей Лазарев',\n",
    "       'Скриптонит', 'Слава КПСС', 'Смоки Мо', 'Сплин', 'Сява',\n",
    "       'Тима Белорусских', 'Тимати', 'Тони Раут', 'Триагрутрика',\n",
    "       'Тридцать Девятый', 'ХХОС', 'Хаски', 'Хлеб', 'ШЕFF', 'Шляпники',\n",
    "       'Элджей', 'Эрика Лундмоен', 'Ярмак', 'дима бамберг',\n",
    "       '\\u200bмонеточка','Red Hot Chili Peppers','Eric Clapton','Japan','Enrique Iglesias',\n",
    "        'BLACKPINK','BTS', 'Backstreet Boys','Coldplay']"
   ]
  },
  {
   "cell_type": "code",
   "execution_count": 10,
   "metadata": {
    "ExecuteTime": {
     "end_time": "2020-02-23T21:48:31.400869Z",
     "start_time": "2020-02-23T21:48:31.292792Z"
    }
   },
   "outputs": [
    {
     "data": {
      "text/html": [
       "<div>\n",
       "<style scoped>\n",
       "    .dataframe tbody tr th:only-of-type {\n",
       "        vertical-align: middle;\n",
       "    }\n",
       "\n",
       "    .dataframe tbody tr th {\n",
       "        vertical-align: top;\n",
       "    }\n",
       "\n",
       "    .dataframe thead th {\n",
       "        text-align: right;\n",
       "    }\n",
       "</style>\n",
       "<table border=\"1\" class=\"dataframe\">\n",
       "  <thead>\n",
       "    <tr style=\"text-align: right;\">\n",
       "      <th></th>\n",
       "      <th>Singer</th>\n",
       "      <th>Album</th>\n",
       "      <th>Song</th>\n",
       "      <th>Part Singer</th>\n",
       "      <th>Part Name</th>\n",
       "      <th>Part Lyrics</th>\n",
       "      <th>Date</th>\n",
       "      <th>Genre</th>\n",
       "      <th>Tags</th>\n",
       "      <th>Year</th>\n",
       "    </tr>\n",
       "  </thead>\n",
       "  <tbody>\n",
       "    <tr>\n",
       "      <td>1</td>\n",
       "      <td>$UICIDEBOY$</td>\n",
       "      <td>7th or St. Tammany</td>\n",
       "      <td>40 Oz. &amp; Sober</td>\n",
       "      <td>$UICIDEBOY$</td>\n",
       "      <td>Verse</td>\n",
       "      <td>Bitch, I be the $nowmane Fifty nine shades of ...</td>\n",
       "      <td>2015-04-02</td>\n",
       "      <td>['Alternative/Indie', 'Hip-Hop/Rap']</td>\n",
       "      <td>['Alternative', 'Rap']</td>\n",
       "      <td>2015</td>\n",
       "    </tr>\n",
       "    <tr>\n",
       "      <td>2</td>\n",
       "      <td>$UICIDEBOY$</td>\n",
       "      <td>7th or St. Tammany</td>\n",
       "      <td>40 Oz. &amp; Sober</td>\n",
       "      <td>$UICIDEBOY$</td>\n",
       "      <td>Verse</td>\n",
       "      <td>Yesterday, I rode my bike to the moon Or thoug...</td>\n",
       "      <td>2015-04-02</td>\n",
       "      <td>['Alternative/Indie', 'Hip-Hop/Rap']</td>\n",
       "      <td>['Alternative', 'Rap']</td>\n",
       "      <td>2015</td>\n",
       "    </tr>\n",
       "    <tr>\n",
       "      <td>5</td>\n",
       "      <td>$UICIDEBOY$</td>\n",
       "      <td>7th or St. Tammany</td>\n",
       "      <td>Dead Batteries</td>\n",
       "      <td>$UICIDEBOY$</td>\n",
       "      <td>Verse</td>\n",
       "      <td>Bitches know I got the vendetta Rollin' up the...</td>\n",
       "      <td>2015-03-19</td>\n",
       "      <td>['Hip-Hop/Rap']</td>\n",
       "      <td>['Rap']</td>\n",
       "      <td>2015</td>\n",
       "    </tr>\n",
       "    <tr>\n",
       "      <td>7</td>\n",
       "      <td>$UICIDEBOY$</td>\n",
       "      <td>7th or St. Tammany</td>\n",
       "      <td>Dead Batteries</td>\n",
       "      <td>$UICIDEBOY$</td>\n",
       "      <td>Verse</td>\n",
       "      <td>Here I come to paint it grey Whip look like I ...</td>\n",
       "      <td>2015-03-19</td>\n",
       "      <td>['Hip-Hop/Rap']</td>\n",
       "      <td>['Rap']</td>\n",
       "      <td>2015</td>\n",
       "    </tr>\n",
       "    <tr>\n",
       "      <td>9</td>\n",
       "      <td>$UICIDEBOY$</td>\n",
       "      <td>7th or St. Tammany</td>\n",
       "      <td>Drugs/Hoes/Money/Etc.</td>\n",
       "      <td>$UICIDEBOY$</td>\n",
       "      <td>Verse</td>\n",
       "      <td>Counting sheep until I'm sound asleep I'm loun...</td>\n",
       "      <td>2015-04-02</td>\n",
       "      <td>['Hip-Hop/Rap']</td>\n",
       "      <td>['Rap']</td>\n",
       "      <td>2015</td>\n",
       "    </tr>\n",
       "    <tr>\n",
       "      <td>...</td>\n",
       "      <td>...</td>\n",
       "      <td>...</td>\n",
       "      <td>...</td>\n",
       "      <td>...</td>\n",
       "      <td>...</td>\n",
       "      <td>...</td>\n",
       "      <td>...</td>\n",
       "      <td>...</td>\n",
       "      <td>...</td>\n",
       "      <td>...</td>\n",
       "    </tr>\n",
       "    <tr>\n",
       "      <td>665510</td>\n",
       "      <td>will.i.am</td>\n",
       "      <td>NaN</td>\n",
       "      <td>T.H.E. (The Hardest Ever)</td>\n",
       "      <td>will.i.am</td>\n",
       "      <td>Verse</td>\n",
       "      <td>You can get that, or you can get this You can ...</td>\n",
       "      <td>2011-11-20</td>\n",
       "      <td>['Pop', 'Hip-Hop/Rap']</td>\n",
       "      <td>['Electronic', 'Pop', 'Rap']</td>\n",
       "      <td>2011</td>\n",
       "    </tr>\n",
       "    <tr>\n",
       "      <td>665514</td>\n",
       "      <td>will.i.am</td>\n",
       "      <td>NaN</td>\n",
       "      <td>T.H.E. (The Hardest Ever)</td>\n",
       "      <td>Mick Jagger</td>\n",
       "      <td>Verse</td>\n",
       "      <td>Hard like a rock 'n roll Time bomb's ticking, ...</td>\n",
       "      <td>2011-11-20</td>\n",
       "      <td>['Pop', 'Hip-Hop/Rap']</td>\n",
       "      <td>['Electronic', 'Pop', 'Rap']</td>\n",
       "      <td>2011</td>\n",
       "    </tr>\n",
       "    <tr>\n",
       "      <td>665537</td>\n",
       "      <td>will.i.am</td>\n",
       "      <td>NaN</td>\n",
       "      <td>Will.i.am</td>\n",
       "      <td>will.i.am</td>\n",
       "      <td>Verse</td>\n",
       "      <td>Y’all wanna call me a sad man Nigga I’m ballin...</td>\n",
       "      <td>2017-02-23</td>\n",
       "      <td>['Hip-Hop/Rap']</td>\n",
       "      <td>['Rap']</td>\n",
       "      <td>2017</td>\n",
       "    </tr>\n",
       "    <tr>\n",
       "      <td>665547</td>\n",
       "      <td>will.i.am</td>\n",
       "      <td>NaN</td>\n",
       "      <td>You And Me</td>\n",
       "      <td>will.i.am</td>\n",
       "      <td>Verse</td>\n",
       "      <td>You my uno, you my uno You my number one, yup ...</td>\n",
       "      <td>NaN</td>\n",
       "      <td>['Pop', 'Hip-Hop/Rap']</td>\n",
       "      <td>['Trap', 'Electronic', 'Pop', 'Rap']</td>\n",
       "      <td>NaN</td>\n",
       "    </tr>\n",
       "    <tr>\n",
       "      <td>665550</td>\n",
       "      <td>will.i.am</td>\n",
       "      <td>NaN</td>\n",
       "      <td>You And Me</td>\n",
       "      <td>will.i.am</td>\n",
       "      <td>Verse</td>\n",
       "      <td>What the lovebirds say? Tweet, girl I love it ...</td>\n",
       "      <td>NaN</td>\n",
       "      <td>['Pop', 'Hip-Hop/Rap']</td>\n",
       "      <td>['Trap', 'Electronic', 'Pop', 'Rap']</td>\n",
       "      <td>NaN</td>\n",
       "    </tr>\n",
       "  </tbody>\n",
       "</table>\n",
       "<p>122571 rows × 10 columns</p>\n",
       "</div>"
      ],
      "text/plain": [
       "             Singer               Album                       Song  \\\n",
       "1       $UICIDEBOY$  7th or St. Tammany             40 Oz. & Sober   \n",
       "2       $UICIDEBOY$  7th or St. Tammany             40 Oz. & Sober   \n",
       "5       $UICIDEBOY$  7th or St. Tammany             Dead Batteries   \n",
       "7       $UICIDEBOY$  7th or St. Tammany             Dead Batteries   \n",
       "9       $UICIDEBOY$  7th or St. Tammany      Drugs/Hoes/Money/Etc.   \n",
       "...             ...                 ...                        ...   \n",
       "665510    will.i.am                 NaN  T.H.E. (The Hardest Ever)   \n",
       "665514    will.i.am                 NaN  T.H.E. (The Hardest Ever)   \n",
       "665537    will.i.am                 NaN                  Will.i.am   \n",
       "665547    will.i.am                 NaN                 You And Me   \n",
       "665550    will.i.am                 NaN                 You And Me   \n",
       "\n",
       "        Part Singer Part Name  \\\n",
       "1       $UICIDEBOY$     Verse   \n",
       "2       $UICIDEBOY$     Verse   \n",
       "5       $UICIDEBOY$     Verse   \n",
       "7       $UICIDEBOY$     Verse   \n",
       "9       $UICIDEBOY$     Verse   \n",
       "...             ...       ...   \n",
       "665510    will.i.am     Verse   \n",
       "665514  Mick Jagger     Verse   \n",
       "665537    will.i.am     Verse   \n",
       "665547    will.i.am     Verse   \n",
       "665550    will.i.am     Verse   \n",
       "\n",
       "                                              Part Lyrics        Date  \\\n",
       "1       Bitch, I be the $nowmane Fifty nine shades of ...  2015-04-02   \n",
       "2       Yesterday, I rode my bike to the moon Or thoug...  2015-04-02   \n",
       "5       Bitches know I got the vendetta Rollin' up the...  2015-03-19   \n",
       "7       Here I come to paint it grey Whip look like I ...  2015-03-19   \n",
       "9       Counting sheep until I'm sound asleep I'm loun...  2015-04-02   \n",
       "...                                                   ...         ...   \n",
       "665510  You can get that, or you can get this You can ...  2011-11-20   \n",
       "665514  Hard like a rock 'n roll Time bomb's ticking, ...  2011-11-20   \n",
       "665537  Y’all wanna call me a sad man Nigga I’m ballin...  2017-02-23   \n",
       "665547  You my uno, you my uno You my number one, yup ...         NaN   \n",
       "665550  What the lovebirds say? Tweet, girl I love it ...         NaN   \n",
       "\n",
       "                                       Genre  \\\n",
       "1       ['Alternative/Indie', 'Hip-Hop/Rap']   \n",
       "2       ['Alternative/Indie', 'Hip-Hop/Rap']   \n",
       "5                            ['Hip-Hop/Rap']   \n",
       "7                            ['Hip-Hop/Rap']   \n",
       "9                            ['Hip-Hop/Rap']   \n",
       "...                                      ...   \n",
       "665510                ['Pop', 'Hip-Hop/Rap']   \n",
       "665514                ['Pop', 'Hip-Hop/Rap']   \n",
       "665537                       ['Hip-Hop/Rap']   \n",
       "665547                ['Pop', 'Hip-Hop/Rap']   \n",
       "665550                ['Pop', 'Hip-Hop/Rap']   \n",
       "\n",
       "                                        Tags  Year  \n",
       "1                     ['Alternative', 'Rap']  2015  \n",
       "2                     ['Alternative', 'Rap']  2015  \n",
       "5                                    ['Rap']  2015  \n",
       "7                                    ['Rap']  2015  \n",
       "9                                    ['Rap']  2015  \n",
       "...                                      ...   ...  \n",
       "665510          ['Electronic', 'Pop', 'Rap']  2011  \n",
       "665514          ['Electronic', 'Pop', 'Rap']  2011  \n",
       "665537                               ['Rap']  2017  \n",
       "665547  ['Trap', 'Electronic', 'Pop', 'Rap']   NaN  \n",
       "665550  ['Trap', 'Electronic', 'Pop', 'Rap']   NaN  \n",
       "\n",
       "[122571 rows x 10 columns]"
      ]
     },
     "execution_count": 10,
     "metadata": {},
     "output_type": "execute_result"
    }
   ],
   "source": [
    "hh_df = hh_df[~hh_df['Singer'].isin(rappers)]\n",
    "hh_df"
   ]
  },
  {
   "cell_type": "code",
   "execution_count": 11,
   "metadata": {
    "ExecuteTime": {
     "end_time": "2020-02-23T21:48:31.476694Z",
     "start_time": "2020-02-23T21:48:31.406072Z"
    }
   },
   "outputs": [
    {
     "name": "stdout",
     "output_type": "stream",
     "text": [
      "<class 'pandas.core.frame.DataFrame'>\n",
      "Int64Index: 122571 entries, 1 to 665550\n",
      "Data columns (total 10 columns):\n",
      "Singer         122571 non-null object\n",
      "Album          98413 non-null object\n",
      "Song           122571 non-null object\n",
      "Part Singer    122571 non-null object\n",
      "Part Name      122571 non-null object\n",
      "Part Lyrics    122571 non-null object\n",
      "Date           102140 non-null object\n",
      "Genre          122571 non-null object\n",
      "Tags           122571 non-null object\n",
      "Year           102140 non-null object\n",
      "dtypes: object(10)\n",
      "memory usage: 10.3+ MB\n"
     ]
    }
   ],
   "source": [
    "hh_df.info()"
   ]
  },
  {
   "cell_type": "code",
   "execution_count": null,
   "metadata": {
    "ExecuteTime": {
     "start_time": "2020-02-23T21:48:00.614Z"
    }
   },
   "outputs": [],
   "source": [
    "from langdetect import detect\n",
    "\n",
    "def langdet(s):\n",
    "    try:\n",
    "        return detect(s)\n",
    "    except:\n",
    "        return np.nan\n",
    "\n",
    "hh_df['lang'] = hh_df['Part Lyrics'].apply(langdet)"
   ]
  },
  {
   "cell_type": "code",
   "execution_count": null,
   "metadata": {
    "ExecuteTime": {
     "start_time": "2020-02-23T21:48:00.617Z"
    }
   },
   "outputs": [],
   "source": [
    "hh_df.lang.value_counts()"
   ]
  },
  {
   "cell_type": "code",
   "execution_count": null,
   "metadata": {
    "ExecuteTime": {
     "start_time": "2020-02-23T21:48:00.621Z"
    },
    "scrolled": true
   },
   "outputs": [],
   "source": [
    "hh_df = hh_df[hh_df.lang == 'en']\n",
    "hh_df.info()"
   ]
  },
  {
   "cell_type": "code",
   "execution_count": null,
   "metadata": {
    "ExecuteTime": {
     "start_time": "2020-02-23T21:48:00.624Z"
    }
   },
   "outputs": [],
   "source": [
    "with open('hh_df.pkl', 'wb') as picklefile:\n",
    "    pickle.dump(hh_df, picklefile)"
   ]
  },
  {
   "cell_type": "markdown",
   "metadata": {},
   "source": [
    "## Preprocessing\n",
    "\n",
    "- Used verse lyrics only\n",
    "- Removed numbers, captial letters and punctuation\n",
    "- Stemming"
   ]
  },
  {
   "cell_type": "code",
   "execution_count": 125,
   "metadata": {
    "ExecuteTime": {
     "end_time": "2020-02-24T20:46:08.312741Z",
     "start_time": "2020-02-24T20:46:07.845131Z"
    }
   },
   "outputs": [],
   "source": [
    "import pickle\n",
    "\n",
    "with open(\"hh_df.pkl\", 'rb') as picklefile: \n",
    "    hh_df = pickle.load(picklefile)"
   ]
  },
  {
   "cell_type": "code",
   "execution_count": 128,
   "metadata": {
    "ExecuteTime": {
     "end_time": "2020-02-24T20:47:03.086824Z",
     "start_time": "2020-02-24T20:47:03.066726Z"
    }
   },
   "outputs": [
    {
     "data": {
      "text/html": [
       "<div>\n",
       "<style scoped>\n",
       "    .dataframe tbody tr th:only-of-type {\n",
       "        vertical-align: middle;\n",
       "    }\n",
       "\n",
       "    .dataframe tbody tr th {\n",
       "        vertical-align: top;\n",
       "    }\n",
       "\n",
       "    .dataframe thead th {\n",
       "        text-align: right;\n",
       "    }\n",
       "</style>\n",
       "<table border=\"1\" class=\"dataframe\">\n",
       "  <thead>\n",
       "    <tr style=\"text-align: right;\">\n",
       "      <th></th>\n",
       "      <th>Singer</th>\n",
       "      <th>Album</th>\n",
       "      <th>Song</th>\n",
       "      <th>Part Singer</th>\n",
       "      <th>Part Name</th>\n",
       "      <th>Part Lyrics</th>\n",
       "      <th>Date</th>\n",
       "      <th>Genre</th>\n",
       "      <th>Tags</th>\n",
       "      <th>Year</th>\n",
       "      <th>lang</th>\n",
       "      <th>lyrics_nostem</th>\n",
       "    </tr>\n",
       "  </thead>\n",
       "  <tbody>\n",
       "    <tr>\n",
       "      <td>1</td>\n",
       "      <td>$UICIDEBOY$</td>\n",
       "      <td>7th or St. Tammany</td>\n",
       "      <td>40 Oz. &amp; Sober</td>\n",
       "      <td>$UICIDEBOY$</td>\n",
       "      <td>Verse</td>\n",
       "      <td>Bitch, I be the $nowmane Fifty nine shades of ...</td>\n",
       "      <td>2015-04-02</td>\n",
       "      <td>['Alternative/Indie', 'Hip-Hop/Rap']</td>\n",
       "      <td>['Alternative', 'Rap']</td>\n",
       "      <td>2015</td>\n",
       "      <td>en</td>\n",
       "      <td>Bitch, I be the $nowmane Fifty nine shades of ...</td>\n",
       "    </tr>\n",
       "    <tr>\n",
       "      <td>2</td>\n",
       "      <td>$UICIDEBOY$</td>\n",
       "      <td>7th or St. Tammany</td>\n",
       "      <td>40 Oz. &amp; Sober</td>\n",
       "      <td>$UICIDEBOY$</td>\n",
       "      <td>Verse</td>\n",
       "      <td>Yesterday, I rode my bike to the moon Or thoug...</td>\n",
       "      <td>2015-04-02</td>\n",
       "      <td>['Alternative/Indie', 'Hip-Hop/Rap']</td>\n",
       "      <td>['Alternative', 'Rap']</td>\n",
       "      <td>2015</td>\n",
       "      <td>en</td>\n",
       "      <td>Yesterday, I rode my bike to the moon Or thoug...</td>\n",
       "    </tr>\n",
       "    <tr>\n",
       "      <td>5</td>\n",
       "      <td>$UICIDEBOY$</td>\n",
       "      <td>7th or St. Tammany</td>\n",
       "      <td>Dead Batteries</td>\n",
       "      <td>$UICIDEBOY$</td>\n",
       "      <td>Verse</td>\n",
       "      <td>Bitches know I got the vendetta Rollin' up the...</td>\n",
       "      <td>2015-03-19</td>\n",
       "      <td>['Hip-Hop/Rap']</td>\n",
       "      <td>['Rap']</td>\n",
       "      <td>2015</td>\n",
       "      <td>en</td>\n",
       "      <td>Bitches know I got the vendetta Rollin' up the...</td>\n",
       "    </tr>\n",
       "  </tbody>\n",
       "</table>\n",
       "</div>"
      ],
      "text/plain": [
       "        Singer               Album            Song  Part Singer Part Name  \\\n",
       "1  $UICIDEBOY$  7th or St. Tammany  40 Oz. & Sober  $UICIDEBOY$     Verse   \n",
       "2  $UICIDEBOY$  7th or St. Tammany  40 Oz. & Sober  $UICIDEBOY$     Verse   \n",
       "5  $UICIDEBOY$  7th or St. Tammany  Dead Batteries  $UICIDEBOY$     Verse   \n",
       "\n",
       "                                         Part Lyrics        Date  \\\n",
       "1  Bitch, I be the $nowmane Fifty nine shades of ...  2015-04-02   \n",
       "2  Yesterday, I rode my bike to the moon Or thoug...  2015-04-02   \n",
       "5  Bitches know I got the vendetta Rollin' up the...  2015-03-19   \n",
       "\n",
       "                                  Genre                    Tags  Year lang  \\\n",
       "1  ['Alternative/Indie', 'Hip-Hop/Rap']  ['Alternative', 'Rap']  2015   en   \n",
       "2  ['Alternative/Indie', 'Hip-Hop/Rap']  ['Alternative', 'Rap']  2015   en   \n",
       "5                       ['Hip-Hop/Rap']                 ['Rap']  2015   en   \n",
       "\n",
       "                                       lyrics_nostem  \n",
       "1  Bitch, I be the $nowmane Fifty nine shades of ...  \n",
       "2  Yesterday, I rode my bike to the moon Or thoug...  \n",
       "5  Bitches know I got the vendetta Rollin' up the...  "
      ]
     },
     "execution_count": 128,
     "metadata": {},
     "output_type": "execute_result"
    }
   ],
   "source": [
    "hh_df.head(3)"
   ]
  },
  {
   "cell_type": "code",
   "execution_count": 127,
   "metadata": {
    "ExecuteTime": {
     "end_time": "2020-02-24T20:46:59.773596Z",
     "start_time": "2020-02-24T20:46:59.759184Z"
    }
   },
   "outputs": [],
   "source": [
    "hh_df['lyrics_nostem'] = hh_df['Part Lyrics']"
   ]
  },
  {
   "cell_type": "code",
   "execution_count": 129,
   "metadata": {
    "ExecuteTime": {
     "end_time": "2020-02-24T20:49:22.222780Z",
     "start_time": "2020-02-24T20:49:22.068777Z"
    }
   },
   "outputs": [],
   "source": [
    "d = hh_df[~hh_df.Year.isna()]\n",
    "song_count = d.groupby(['Year'], as_index = False).agg({'Song':'count'})"
   ]
  },
  {
   "cell_type": "code",
   "execution_count": 918,
   "metadata": {
    "ExecuteTime": {
     "end_time": "2020-02-28T00:28:41.576465Z",
     "start_time": "2020-02-28T00:28:40.310587Z"
    }
   },
   "outputs": [
    {
     "data": {
      "image/png": "[encoded data removed]",
      "text/plain": [
       "<Figure size 864x504 with 1 Axes>"
      ]
     },
     "metadata": {
      "needs_background": "light"
     },
     "output_type": "display_data"
    }
   ],
   "source": [
    "plt.figure(figsize = [12, 7])\n",
    "\n",
    "sns.barplot(song_count['Year'],song_count['Song'])\n",
    "plt.title('Growth of Hip-Hop Track Releases', fontsize = 17)\n",
    "plt.ylabel('# of Tracks', fontsize = 14)\n",
    "plt.xlabel('Year', fontsize = 14)\n",
    "plt.xticks(rotation = 90);"
   ]
  },
  {
   "cell_type": "code",
   "execution_count": 131,
   "metadata": {
    "ExecuteTime": {
     "end_time": "2020-02-24T20:50:44.373667Z",
     "start_time": "2020-02-24T20:50:31.735387Z"
    }
   },
   "outputs": [],
   "source": [
    "#  Text preprocessing steps - remove numbers, captial letters and punctuation\n",
    "import re\n",
    "import string\n",
    "\n",
    "alphanumeric = lambda x: re.sub('\\w*\\d\\w*', ' ', x)\n",
    "punc_lower = lambda x: re.sub('[%s]' % re.escape(string.punctuation), ' ', x.lower())\n",
    " \n",
    "hh_df['Part Lyrics'] = hh_df['Part Lyrics'].map(alphanumeric).map(punc_lower)                               \n",
    "                                                  "
   ]
  },
  {
   "cell_type": "code",
   "execution_count": 132,
   "metadata": {
    "ExecuteTime": {
     "end_time": "2020-02-24T20:50:50.433291Z",
     "start_time": "2020-02-24T20:50:50.413478Z"
    }
   },
   "outputs": [
    {
     "data": {
      "text/html": [
       "<div>\n",
       "<style scoped>\n",
       "    .dataframe tbody tr th:only-of-type {\n",
       "        vertical-align: middle;\n",
       "    }\n",
       "\n",
       "    .dataframe tbody tr th {\n",
       "        vertical-align: top;\n",
       "    }\n",
       "\n",
       "    .dataframe thead th {\n",
       "        text-align: right;\n",
       "    }\n",
       "</style>\n",
       "<table border=\"1\" class=\"dataframe\">\n",
       "  <thead>\n",
       "    <tr style=\"text-align: right;\">\n",
       "      <th></th>\n",
       "      <th>Singer</th>\n",
       "      <th>Album</th>\n",
       "      <th>Song</th>\n",
       "      <th>Part Singer</th>\n",
       "      <th>Part Name</th>\n",
       "      <th>Part Lyrics</th>\n",
       "      <th>Date</th>\n",
       "      <th>Genre</th>\n",
       "      <th>Tags</th>\n",
       "      <th>Year</th>\n",
       "      <th>lang</th>\n",
       "      <th>lyrics_nostem</th>\n",
       "    </tr>\n",
       "  </thead>\n",
       "  <tbody>\n",
       "    <tr>\n",
       "      <td>1</td>\n",
       "      <td>$UICIDEBOY$</td>\n",
       "      <td>7th or St. Tammany</td>\n",
       "      <td>40 Oz. &amp; Sober</td>\n",
       "      <td>$UICIDEBOY$</td>\n",
       "      <td>Verse</td>\n",
       "      <td>bitch  i be the  nowmane fifty nine shades of ...</td>\n",
       "      <td>2015-04-02</td>\n",
       "      <td>['Alternative/Indie', 'Hip-Hop/Rap']</td>\n",
       "      <td>['Alternative', 'Rap']</td>\n",
       "      <td>2015</td>\n",
       "      <td>en</td>\n",
       "      <td>Bitch, I be the $nowmane Fifty nine shades of ...</td>\n",
       "    </tr>\n",
       "    <tr>\n",
       "      <td>2</td>\n",
       "      <td>$UICIDEBOY$</td>\n",
       "      <td>7th or St. Tammany</td>\n",
       "      <td>40 Oz. &amp; Sober</td>\n",
       "      <td>$UICIDEBOY$</td>\n",
       "      <td>Verse</td>\n",
       "      <td>yesterday  i rode my bike to the moon or thoug...</td>\n",
       "      <td>2015-04-02</td>\n",
       "      <td>['Alternative/Indie', 'Hip-Hop/Rap']</td>\n",
       "      <td>['Alternative', 'Rap']</td>\n",
       "      <td>2015</td>\n",
       "      <td>en</td>\n",
       "      <td>Yesterday, I rode my bike to the moon Or thoug...</td>\n",
       "    </tr>\n",
       "    <tr>\n",
       "      <td>5</td>\n",
       "      <td>$UICIDEBOY$</td>\n",
       "      <td>7th or St. Tammany</td>\n",
       "      <td>Dead Batteries</td>\n",
       "      <td>$UICIDEBOY$</td>\n",
       "      <td>Verse</td>\n",
       "      <td>bitches know i got the vendetta rollin  up the...</td>\n",
       "      <td>2015-03-19</td>\n",
       "      <td>['Hip-Hop/Rap']</td>\n",
       "      <td>['Rap']</td>\n",
       "      <td>2015</td>\n",
       "      <td>en</td>\n",
       "      <td>Bitches know I got the vendetta Rollin' up the...</td>\n",
       "    </tr>\n",
       "    <tr>\n",
       "      <td>7</td>\n",
       "      <td>$UICIDEBOY$</td>\n",
       "      <td>7th or St. Tammany</td>\n",
       "      <td>Dead Batteries</td>\n",
       "      <td>$UICIDEBOY$</td>\n",
       "      <td>Verse</td>\n",
       "      <td>here i come to paint it grey whip look like i ...</td>\n",
       "      <td>2015-03-19</td>\n",
       "      <td>['Hip-Hop/Rap']</td>\n",
       "      <td>['Rap']</td>\n",
       "      <td>2015</td>\n",
       "      <td>en</td>\n",
       "      <td>Here I come to paint it grey Whip look like I ...</td>\n",
       "    </tr>\n",
       "    <tr>\n",
       "      <td>9</td>\n",
       "      <td>$UICIDEBOY$</td>\n",
       "      <td>7th or St. Tammany</td>\n",
       "      <td>Drugs/Hoes/Money/Etc.</td>\n",
       "      <td>$UICIDEBOY$</td>\n",
       "      <td>Verse</td>\n",
       "      <td>counting sheep until i m sound asleep i m loun...</td>\n",
       "      <td>2015-04-02</td>\n",
       "      <td>['Hip-Hop/Rap']</td>\n",
       "      <td>['Rap']</td>\n",
       "      <td>2015</td>\n",
       "      <td>en</td>\n",
       "      <td>Counting sheep until I'm sound asleep I'm loun...</td>\n",
       "    </tr>\n",
       "  </tbody>\n",
       "</table>\n",
       "</div>"
      ],
      "text/plain": [
       "        Singer               Album                   Song  Part Singer  \\\n",
       "1  $UICIDEBOY$  7th or St. Tammany         40 Oz. & Sober  $UICIDEBOY$   \n",
       "2  $UICIDEBOY$  7th or St. Tammany         40 Oz. & Sober  $UICIDEBOY$   \n",
       "5  $UICIDEBOY$  7th or St. Tammany         Dead Batteries  $UICIDEBOY$   \n",
       "7  $UICIDEBOY$  7th or St. Tammany         Dead Batteries  $UICIDEBOY$   \n",
       "9  $UICIDEBOY$  7th or St. Tammany  Drugs/Hoes/Money/Etc.  $UICIDEBOY$   \n",
       "\n",
       "  Part Name                                        Part Lyrics        Date  \\\n",
       "1     Verse  bitch  i be the  nowmane fifty nine shades of ...  2015-04-02   \n",
       "2     Verse  yesterday  i rode my bike to the moon or thoug...  2015-04-02   \n",
       "5     Verse  bitches know i got the vendetta rollin  up the...  2015-03-19   \n",
       "7     Verse  here i come to paint it grey whip look like i ...  2015-03-19   \n",
       "9     Verse  counting sheep until i m sound asleep i m loun...  2015-04-02   \n",
       "\n",
       "                                  Genre                    Tags  Year lang  \\\n",
       "1  ['Alternative/Indie', 'Hip-Hop/Rap']  ['Alternative', 'Rap']  2015   en   \n",
       "2  ['Alternative/Indie', 'Hip-Hop/Rap']  ['Alternative', 'Rap']  2015   en   \n",
       "5                       ['Hip-Hop/Rap']                 ['Rap']  2015   en   \n",
       "7                       ['Hip-Hop/Rap']                 ['Rap']  2015   en   \n",
       "9                       ['Hip-Hop/Rap']                 ['Rap']  2015   en   \n",
       "\n",
       "                                       lyrics_nostem  \n",
       "1  Bitch, I be the $nowmane Fifty nine shades of ...  \n",
       "2  Yesterday, I rode my bike to the moon Or thoug...  \n",
       "5  Bitches know I got the vendetta Rollin' up the...  \n",
       "7  Here I come to paint it grey Whip look like I ...  \n",
       "9  Counting sheep until I'm sound asleep I'm loun...  "
      ]
     },
     "execution_count": 132,
     "metadata": {},
     "output_type": "execute_result"
    }
   ],
   "source": [
    "hh_df.head()"
   ]
  },
  {
   "cell_type": "code",
   "execution_count": null,
   "metadata": {
    "ExecuteTime": {
     "start_time": "2020-02-23T21:48:00.651Z"
    }
   },
   "outputs": [],
   "source": [
    "# fix spelling error\n",
    "#from autocorrect import spell\n",
    "\n",
    "#hh_df['lyrics_fixed'] = hh_df['Part Lyrics'].apply(lambda string: ' '.join(map(spell, string.split())))"
   ]
  },
  {
   "cell_type": "code",
   "execution_count": 133,
   "metadata": {
    "ExecuteTime": {
     "end_time": "2020-02-24T20:54:42.428092Z",
     "start_time": "2020-02-24T20:50:57.568785Z"
    }
   },
   "outputs": [],
   "source": [
    "# Stemming\n",
    "from nltk.stem.lancaster import LancasterStemmer\n",
    "\n",
    "stemmer = LancasterStemmer()\n",
    "stemming = lambda x: stemmer.stem(x)\n",
    "\n",
    "hh_df['Part Lyrics'] = hh_df['Part Lyrics'].apply(lambda x: ' '.join(list(map(stemming, x.split(' ')))))       "
   ]
  },
  {
   "cell_type": "code",
   "execution_count": 135,
   "metadata": {
    "ExecuteTime": {
     "end_time": "2020-02-24T20:55:14.052591Z",
     "start_time": "2020-02-24T20:55:13.113215Z"
    }
   },
   "outputs": [],
   "source": [
    "with open('hh_df_v2.pkl', 'wb') as picklefile:\n",
    "    pickle.dump(hh_df, picklefile)"
   ]
  },
  {
   "cell_type": "code",
   "execution_count": 1035,
   "metadata": {
    "ExecuteTime": {
     "end_time": "2020-02-28T04:37:27.158473Z",
     "start_time": "2020-02-28T04:37:25.522119Z"
    }
   },
   "outputs": [],
   "source": [
    "with open(\"hh_df_v2.pkl\", 'rb') as picklefile: \n",
    "    hh_df = pickle.load(picklefile)"
   ]
  },
  {
   "cell_type": "markdown",
   "metadata": {},
   "source": [
    "## Topic Modeling"
   ]
  },
  {
   "cell_type": "markdown",
   "metadata": {},
   "source": [
    "### NMF Modeling"
   ]
  },
  {
   "cell_type": "markdown",
   "metadata": {},
   "source": [
    "#### Finding Topics and further preprocessing"
   ]
  },
  {
   "cell_type": "code",
   "execution_count": 1036,
   "metadata": {
    "ExecuteTime": {
     "end_time": "2020-02-28T04:37:33.994512Z",
     "start_time": "2020-02-28T04:37:33.983872Z"
    }
   },
   "outputs": [],
   "source": [
    "from sklearn.decomposition import NMF\n",
    "from sklearn.metrics.pairwise import cosine_similarity"
   ]
  },
  {
   "cell_type": "markdown",
   "metadata": {},
   "source": [
    "1) TFIDF and topic modeling"
   ]
  },
  {
   "cell_type": "code",
   "execution_count": 1037,
   "metadata": {
    "ExecuteTime": {
     "end_time": "2020-02-28T04:37:34.720410Z",
     "start_time": "2020-02-28T04:37:34.697661Z"
    },
    "scrolled": true
   },
   "outputs": [
    {
     "data": {
      "text/html": [
       "<div>\n",
       "<style scoped>\n",
       "    .dataframe tbody tr th:only-of-type {\n",
       "        vertical-align: middle;\n",
       "    }\n",
       "\n",
       "    .dataframe tbody tr th {\n",
       "        vertical-align: top;\n",
       "    }\n",
       "\n",
       "    .dataframe thead th {\n",
       "        text-align: right;\n",
       "    }\n",
       "</style>\n",
       "<table border=\"1\" class=\"dataframe\">\n",
       "  <thead>\n",
       "    <tr style=\"text-align: right;\">\n",
       "      <th></th>\n",
       "      <th>Singer</th>\n",
       "      <th>Album</th>\n",
       "      <th>Song</th>\n",
       "      <th>Part Singer</th>\n",
       "      <th>Part Name</th>\n",
       "      <th>Part Lyrics</th>\n",
       "      <th>Date</th>\n",
       "      <th>Genre</th>\n",
       "      <th>Tags</th>\n",
       "      <th>Year</th>\n",
       "      <th>lang</th>\n",
       "      <th>lyrics_nostem</th>\n",
       "    </tr>\n",
       "  </thead>\n",
       "  <tbody>\n",
       "    <tr>\n",
       "      <td>1</td>\n",
       "      <td>$UICIDEBOY$</td>\n",
       "      <td>7th or St. Tammany</td>\n",
       "      <td>40 Oz. &amp; Sober</td>\n",
       "      <td>$UICIDEBOY$</td>\n",
       "      <td>Verse</td>\n",
       "      <td>bitch  i be the  nowm fifty nin shad of grey  ...</td>\n",
       "      <td>2015-04-02</td>\n",
       "      <td>['Alternative/Indie', 'Hip-Hop/Rap']</td>\n",
       "      <td>['Alternative', 'Rap']</td>\n",
       "      <td>2015</td>\n",
       "      <td>en</td>\n",
       "      <td>Bitch, I be the $nowmane Fifty nine shades of ...</td>\n",
       "    </tr>\n",
       "    <tr>\n",
       "      <td>2</td>\n",
       "      <td>$UICIDEBOY$</td>\n",
       "      <td>7th or St. Tammany</td>\n",
       "      <td>40 Oz. &amp; Sober</td>\n",
       "      <td>$UICIDEBOY$</td>\n",
       "      <td>Verse</td>\n",
       "      <td>yesterday  i rod my bik to the moon or thought...</td>\n",
       "      <td>2015-04-02</td>\n",
       "      <td>['Alternative/Indie', 'Hip-Hop/Rap']</td>\n",
       "      <td>['Alternative', 'Rap']</td>\n",
       "      <td>2015</td>\n",
       "      <td>en</td>\n",
       "      <td>Yesterday, I rode my bike to the moon Or thoug...</td>\n",
       "    </tr>\n",
       "    <tr>\n",
       "      <td>5</td>\n",
       "      <td>$UICIDEBOY$</td>\n",
       "      <td>7th or St. Tammany</td>\n",
       "      <td>Dead Batteries</td>\n",
       "      <td>$UICIDEBOY$</td>\n",
       "      <td>Verse</td>\n",
       "      <td>bitch know i got the vendett rollin  up the le...</td>\n",
       "      <td>2015-03-19</td>\n",
       "      <td>['Hip-Hop/Rap']</td>\n",
       "      <td>['Rap']</td>\n",
       "      <td>2015</td>\n",
       "      <td>en</td>\n",
       "      <td>Bitches know I got the vendetta Rollin' up the...</td>\n",
       "    </tr>\n",
       "    <tr>\n",
       "      <td>7</td>\n",
       "      <td>$UICIDEBOY$</td>\n",
       "      <td>7th or St. Tammany</td>\n",
       "      <td>Dead Batteries</td>\n",
       "      <td>$UICIDEBOY$</td>\n",
       "      <td>Verse</td>\n",
       "      <td>her i com to paint it grey whip look lik i dri...</td>\n",
       "      <td>2015-03-19</td>\n",
       "      <td>['Hip-Hop/Rap']</td>\n",
       "      <td>['Rap']</td>\n",
       "      <td>2015</td>\n",
       "      <td>en</td>\n",
       "      <td>Here I come to paint it grey Whip look like I ...</td>\n",
       "    </tr>\n",
       "    <tr>\n",
       "      <td>9</td>\n",
       "      <td>$UICIDEBOY$</td>\n",
       "      <td>7th or St. Tammany</td>\n",
       "      <td>Drugs/Hoes/Money/Etc.</td>\n",
       "      <td>$UICIDEBOY$</td>\n",
       "      <td>Verse</td>\n",
       "      <td>count sheep until i m sound asleep i m loung d...</td>\n",
       "      <td>2015-04-02</td>\n",
       "      <td>['Hip-Hop/Rap']</td>\n",
       "      <td>['Rap']</td>\n",
       "      <td>2015</td>\n",
       "      <td>en</td>\n",
       "      <td>Counting sheep until I'm sound asleep I'm loun...</td>\n",
       "    </tr>\n",
       "    <tr>\n",
       "      <td>...</td>\n",
       "      <td>...</td>\n",
       "      <td>...</td>\n",
       "      <td>...</td>\n",
       "      <td>...</td>\n",
       "      <td>...</td>\n",
       "      <td>...</td>\n",
       "      <td>...</td>\n",
       "      <td>...</td>\n",
       "      <td>...</td>\n",
       "      <td>...</td>\n",
       "      <td>...</td>\n",
       "      <td>...</td>\n",
       "    </tr>\n",
       "    <tr>\n",
       "      <td>665510</td>\n",
       "      <td>will.i.am</td>\n",
       "      <td>NaN</td>\n",
       "      <td>T.H.E. (The Hardest Ever)</td>\n",
       "      <td>will.i.am</td>\n",
       "      <td>Verse</td>\n",
       "      <td>you can get that  or you can get thi you can c...</td>\n",
       "      <td>2011-11-20</td>\n",
       "      <td>['Pop', 'Hip-Hop/Rap']</td>\n",
       "      <td>['Electronic', 'Pop', 'Rap']</td>\n",
       "      <td>2011</td>\n",
       "      <td>en</td>\n",
       "      <td>You can get that, or you can get this You can ...</td>\n",
       "    </tr>\n",
       "    <tr>\n",
       "      <td>665514</td>\n",
       "      <td>will.i.am</td>\n",
       "      <td>NaN</td>\n",
       "      <td>T.H.E. (The Hardest Ever)</td>\n",
       "      <td>Mick Jagger</td>\n",
       "      <td>Verse</td>\n",
       "      <td>hard lik a rock  n rol tim bomb s tick  explod...</td>\n",
       "      <td>2011-11-20</td>\n",
       "      <td>['Pop', 'Hip-Hop/Rap']</td>\n",
       "      <td>['Electronic', 'Pop', 'Rap']</td>\n",
       "      <td>2011</td>\n",
       "      <td>en</td>\n",
       "      <td>Hard like a rock 'n roll Time bomb's ticking, ...</td>\n",
       "    </tr>\n",
       "    <tr>\n",
       "      <td>665537</td>\n",
       "      <td>will.i.am</td>\n",
       "      <td>NaN</td>\n",
       "      <td>Will.i.am</td>\n",
       "      <td>will.i.am</td>\n",
       "      <td>Verse</td>\n",
       "      <td>y’all wann cal me a sad man nigg i’m ballin  n...</td>\n",
       "      <td>2017-02-23</td>\n",
       "      <td>['Hip-Hop/Rap']</td>\n",
       "      <td>['Rap']</td>\n",
       "      <td>2017</td>\n",
       "      <td>en</td>\n",
       "      <td>Y’all wanna call me a sad man Nigga I’m ballin...</td>\n",
       "    </tr>\n",
       "    <tr>\n",
       "      <td>665547</td>\n",
       "      <td>will.i.am</td>\n",
       "      <td>NaN</td>\n",
       "      <td>You And Me</td>\n",
       "      <td>will.i.am</td>\n",
       "      <td>Verse</td>\n",
       "      <td>you my uno  you my uno you my numb on  yup fir...</td>\n",
       "      <td>NaN</td>\n",
       "      <td>['Pop', 'Hip-Hop/Rap']</td>\n",
       "      <td>['Trap', 'Electronic', 'Pop', 'Rap']</td>\n",
       "      <td>NaN</td>\n",
       "      <td>en</td>\n",
       "      <td>You my uno, you my uno You my number one, yup ...</td>\n",
       "    </tr>\n",
       "    <tr>\n",
       "      <td>665550</td>\n",
       "      <td>will.i.am</td>\n",
       "      <td>NaN</td>\n",
       "      <td>You And Me</td>\n",
       "      <td>will.i.am</td>\n",
       "      <td>Verse</td>\n",
       "      <td>what the lovebird say  tweet  girl i lov it wh...</td>\n",
       "      <td>NaN</td>\n",
       "      <td>['Pop', 'Hip-Hop/Rap']</td>\n",
       "      <td>['Trap', 'Electronic', 'Pop', 'Rap']</td>\n",
       "      <td>NaN</td>\n",
       "      <td>en</td>\n",
       "      <td>What the lovebirds say? Tweet, girl I love it ...</td>\n",
       "    </tr>\n",
       "  </tbody>\n",
       "</table>\n",
       "<p>109840 rows × 12 columns</p>\n",
       "</div>"
      ],
      "text/plain": [
       "             Singer               Album                       Song  \\\n",
       "1       $UICIDEBOY$  7th or St. Tammany             40 Oz. & Sober   \n",
       "2       $UICIDEBOY$  7th or St. Tammany             40 Oz. & Sober   \n",
       "5       $UICIDEBOY$  7th or St. Tammany             Dead Batteries   \n",
       "7       $UICIDEBOY$  7th or St. Tammany             Dead Batteries   \n",
       "9       $UICIDEBOY$  7th or St. Tammany      Drugs/Hoes/Money/Etc.   \n",
       "...             ...                 ...                        ...   \n",
       "665510    will.i.am                 NaN  T.H.E. (The Hardest Ever)   \n",
       "665514    will.i.am                 NaN  T.H.E. (The Hardest Ever)   \n",
       "665537    will.i.am                 NaN                  Will.i.am   \n",
       "665547    will.i.am                 NaN                 You And Me   \n",
       "665550    will.i.am                 NaN                 You And Me   \n",
       "\n",
       "        Part Singer Part Name  \\\n",
       "1       $UICIDEBOY$     Verse   \n",
       "2       $UICIDEBOY$     Verse   \n",
       "5       $UICIDEBOY$     Verse   \n",
       "7       $UICIDEBOY$     Verse   \n",
       "9       $UICIDEBOY$     Verse   \n",
       "...             ...       ...   \n",
       "665510    will.i.am     Verse   \n",
       "665514  Mick Jagger     Verse   \n",
       "665537    will.i.am     Verse   \n",
       "665547    will.i.am     Verse   \n",
       "665550    will.i.am     Verse   \n",
       "\n",
       "                                              Part Lyrics        Date  \\\n",
       "1       bitch  i be the  nowm fifty nin shad of grey  ...  2015-04-02   \n",
       "2       yesterday  i rod my bik to the moon or thought...  2015-04-02   \n",
       "5       bitch know i got the vendett rollin  up the le...  2015-03-19   \n",
       "7       her i com to paint it grey whip look lik i dri...  2015-03-19   \n",
       "9       count sheep until i m sound asleep i m loung d...  2015-04-02   \n",
       "...                                                   ...         ...   \n",
       "665510  you can get that  or you can get thi you can c...  2011-11-20   \n",
       "665514  hard lik a rock  n rol tim bomb s tick  explod...  2011-11-20   \n",
       "665537  y’all wann cal me a sad man nigg i’m ballin  n...  2017-02-23   \n",
       "665547  you my uno  you my uno you my numb on  yup fir...         NaN   \n",
       "665550  what the lovebird say  tweet  girl i lov it wh...         NaN   \n",
       "\n",
       "                                       Genre  \\\n",
       "1       ['Alternative/Indie', 'Hip-Hop/Rap']   \n",
       "2       ['Alternative/Indie', 'Hip-Hop/Rap']   \n",
       "5                            ['Hip-Hop/Rap']   \n",
       "7                            ['Hip-Hop/Rap']   \n",
       "9                            ['Hip-Hop/Rap']   \n",
       "...                                      ...   \n",
       "665510                ['Pop', 'Hip-Hop/Rap']   \n",
       "665514                ['Pop', 'Hip-Hop/Rap']   \n",
       "665537                       ['Hip-Hop/Rap']   \n",
       "665547                ['Pop', 'Hip-Hop/Rap']   \n",
       "665550                ['Pop', 'Hip-Hop/Rap']   \n",
       "\n",
       "                                        Tags  Year lang  \\\n",
       "1                     ['Alternative', 'Rap']  2015   en   \n",
       "2                     ['Alternative', 'Rap']  2015   en   \n",
       "5                                    ['Rap']  2015   en   \n",
       "7                                    ['Rap']  2015   en   \n",
       "9                                    ['Rap']  2015   en   \n",
       "...                                      ...   ...  ...   \n",
       "665510          ['Electronic', 'Pop', 'Rap']  2011   en   \n",
       "665514          ['Electronic', 'Pop', 'Rap']  2011   en   \n",
       "665537                               ['Rap']  2017   en   \n",
       "665547  ['Trap', 'Electronic', 'Pop', 'Rap']   NaN   en   \n",
       "665550  ['Trap', 'Electronic', 'Pop', 'Rap']   NaN   en   \n",
       "\n",
       "                                            lyrics_nostem  \n",
       "1       Bitch, I be the $nowmane Fifty nine shades of ...  \n",
       "2       Yesterday, I rode my bike to the moon Or thoug...  \n",
       "5       Bitches know I got the vendetta Rollin' up the...  \n",
       "7       Here I come to paint it grey Whip look like I ...  \n",
       "9       Counting sheep until I'm sound asleep I'm loun...  \n",
       "...                                                   ...  \n",
       "665510  You can get that, or you can get this You can ...  \n",
       "665514  Hard like a rock 'n roll Time bomb's ticking, ...  \n",
       "665537  Y’all wanna call me a sad man Nigga I’m ballin...  \n",
       "665547  You my uno, you my uno You my number one, yup ...  \n",
       "665550  What the lovebirds say? Tweet, girl I love it ...  \n",
       "\n",
       "[109840 rows x 12 columns]"
      ]
     },
     "execution_count": 1037,
     "metadata": {},
     "output_type": "execute_result"
    }
   ],
   "source": [
    "hh_df"
   ]
  },
  {
   "cell_type": "code",
   "execution_count": 1038,
   "metadata": {
    "ExecuteTime": {
     "end_time": "2020-02-28T04:37:35.153425Z",
     "start_time": "2020-02-28T04:37:35.117624Z"
    }
   },
   "outputs": [],
   "source": [
    "# Vectorizing with tfidf\n",
    "\n",
    "english = ({'whil','play','damn', 'wish','talk', 'walk', 'hear', 'around', 'much','right','tight', 'whit', 'keep', 'tryn','but', 'isn', \n",
    "            'under', 'weren', 'those', 'when', 'why', 'few', 'for', 'it', 'of', 'down', 'ma', 'over', 'd', 'during', 'shouldn', 'did', 'above',\n",
    "            'below', 'myself', 'further', 'very', 'same', 'too', 'does', 'through', 'from', 'didn', 'whom', 'and', 'am', 'such', 'out', 'or', \n",
    "            'me', 'has', 'will', 'shan', 'on', 'then', 'here', 't', 'with', 'some', 'what', 'don', 'were', 'an', 'themselves', 'yourselves', \n",
    "            'off', 'being', 'more', 'they', 'ourselves', 'into', 'my', 'them', 'ain', 'a', 'wouldn', 'itself', 'i', 'hasn', 'her', 'their', \n",
    "            'mustn', 'our', 'herself', 'where', 'hers', 'once', 'any', 'theirs', 'before', 'most', 'other', 'not', 'himself', 'his', 'if', 'he',\n",
    "            'each', 'are', 'how', 'couldn', 'ours', 'doing', 'hadn', 'needn', 'again', 'these', 'wasn', 'nor', 'do', 'just', 'so', 'we', \n",
    "            'there', 'have', 'by', 'o', 'than', 're', 'while', 'your', 'at', 'him', 'own', 'can', 'you', 'll', 'between', 'been', 'that', 'is',\n",
    "            'she', 'yours', 'this', 'was', 'be', 'had', 'doesn', 'no', 'because', 'won', 'both', 'to', 'against', 'aren', 'y', 'after', 'all', \n",
    "            'up', 've', 'should', 'as', 'in', 'the', 'having', 'until', 'who', 'haven', 'only', 'm', 'yourself', 'about', 's', 'stil', 'look',\n",
    "            'wher', 'every', 'might', 'which', 'now', 'mightn', 'its', 'gettin', 'gonn', 'gott', 'said', 'could', 'wann', 'thing', 'ther',\n",
    "            'would', 'bout','mayb', 'someth', 'sometim', 'think'})"
   ]
  },
  {
   "cell_type": "code",
   "execution_count": 1039,
   "metadata": {
    "ExecuteTime": {
     "end_time": "2020-02-28T04:37:35.402473Z",
     "start_time": "2020-02-28T04:37:35.391444Z"
    }
   },
   "outputs": [
    {
     "data": {
      "text/plain": [
       "(109840, 457)"
      ]
     },
     "execution_count": 1039,
     "metadata": {},
     "output_type": "execute_result"
    }
   ],
   "source": [
    "doc_word.shape"
   ]
  },
  {
   "cell_type": "code",
   "execution_count": null,
   "metadata": {},
   "outputs": [],
   "source": [
    "def display_topics(model, feature_names, no_top_words, topic_names=None):\n",
    "    for ix, topic in enumerate(model.components_):\n",
    "        if not topic_names or not topic_names[ix]:\n",
    "            print(\"\\nTopic \", ix)\n",
    "        else:\n",
    "            print(\"\\nTopic: '\",topic_names[ix],\"'\")\n",
    "        print(\", \".join([feature_names[i]\n",
    "                        for i in topic.argsort()[:-no_top_words - 1:-1]]))"
   ]
  },
  {
   "cell_type": "code",
   "execution_count": 1040,
   "metadata": {
    "ExecuteTime": {
     "end_time": "2020-02-28T04:37:53.583982Z",
     "start_time": "2020-02-28T04:37:35.615074Z"
    }
   },
   "outputs": [
    {
     "name": "stdout",
     "output_type": "stream",
     "text": [
      "\n",
      "Topic  0\n",
      "money, cash, count, funny, spend, stack, hundr, bank, pocket, doll, talkin, show, hustl, noth, brok, nothin, long, paid, fast, comin\n",
      "\n",
      "Topic  1\n",
      "mind, peopl, hard, night, alway, world, start, thought, heart, chang, stay, told, long, dream, find, away, turn, friend, first, though\n",
      "\n",
      "Topic  2\n",
      "good, hood, head, enough, night, everyth, doin, friend, coupl, littl, feelin, lookin, morn, cook, everybody, best, chick, party, tonight, mean\n",
      "\n",
      "Topic  3\n",
      "young, smok, trap, shoot, diamond, rich, gang, hundr, whip, brick, chain, round, gucc, work, lean, high, wrist, hous, cash, whol\n",
      "\n",
      "Topic  4\n",
      "pussy, dick, fuckin, suck, talkin, told, lick, head, motherfuck, motherfuckin, goin, bust, stick, kiss, lookin, leav, beat, okay, throw, nothin\n",
      "\n",
      "Topic  5\n",
      "baby, crazy, lady, daddy, body, night, tonight, show, kiss, momm, shawty, pleas, hold, leav, littl, driv, wait, slow, lookin, goin\n",
      "\n",
      "Topic  6\n",
      "black, stop, rock, head, watch, beat, drop, flow, shot, motherfuck, check, block, rhym, hand, spit, body, dead, bust, styl, show\n",
      "\n",
      "Topic  7\n",
      "feel, pain, deal, high, chil, insid, hurt, heart, away, going, feelin, everyth, noth, alon, touch, nobody, body, swear, press, help\n",
      "\n",
      "Topic  8\n",
      "girl, world, club, friend, night, pretty, body, party, tonight, drink, dant, chick, shawty, show, littl, hair, kiss, phon, freak, bring\n"
     ]
    }
   ],
   "source": [
    "tfidf = TfidfVectorizer(stop_words= english, token_pattern= '\\w{4,}', max_df = .20, min_df = .015)\n",
    "doc_word  = tfidf.fit_transform(hh_df['Part Lyrics'])\n",
    "\n",
    "nmf = NMF(9, init='random', random_state= 31) \n",
    "doc_topic = nmf.fit_transform(doc_word)\n",
    "display_topics(nmf, tfidf.get_feature_names(), 20)"
   ]
  },
  {
   "cell_type": "code",
   "execution_count": 1041,
   "metadata": {
    "ExecuteTime": {
     "end_time": "2020-02-28T04:37:53.601569Z",
     "start_time": "2020-02-28T04:37:53.588670Z"
    }
   },
   "outputs": [],
   "source": [
    "# Topic identification\n",
    "dic = {0: 'Money', 1: 'Unsure', 2: 'Hood Life', 3: 'Drug/Gangster', 4: 'Sex', 5: 'Love/Affection', 6: 'Rapping/Skills', 7: 'Emotion/Hardship', 8: 'Club/Hookup'}"
   ]
  },
  {
   "cell_type": "code",
   "execution_count": 1042,
   "metadata": {
    "ExecuteTime": {
     "end_time": "2020-02-28T04:37:53.618998Z",
     "start_time": "2020-02-28T04:37:53.608755Z"
    }
   },
   "outputs": [],
   "source": [
    "# Assigning majority topic\n",
    "topic_list = doc_topic.argmax(axis=1)\n",
    "hh_df['topic'] = topic_list"
   ]
  },
  {
   "cell_type": "code",
   "execution_count": 1043,
   "metadata": {
    "ExecuteTime": {
     "end_time": "2020-02-28T04:37:53.777100Z",
     "start_time": "2020-02-28T04:37:53.626544Z"
    }
   },
   "outputs": [],
   "source": [
    "# Topic Coef\n",
    "hh_df['top_coef'] = [i for i in doc_topic]"
   ]
  },
  {
   "cell_type": "markdown",
   "metadata": {},
   "source": [
    "2) Topic reviewing"
   ]
  },
  {
   "cell_type": "code",
   "execution_count": 1044,
   "metadata": {
    "ExecuteTime": {
     "end_time": "2020-02-28T04:37:53.954193Z",
     "start_time": "2020-02-28T04:37:53.783279Z"
    },
    "scrolled": true
   },
   "outputs": [
    {
     "data": {
      "text/plain": [
       "\"I go hard in the mother fuckin kitchen Using baby bottles for the lean, wifey say I'm trippin Plus I got Maybelline smeared right below my zipper I’m a kama sutra reader and a conjure drinker Hot on the stove, smoking like reefer This work ain’t bout shit, that’s why its cheaper This ho ain’t bout shit, that’s why she cheaper All we blow is strong, that’s why you weaker! Wait up, your status change when your weight up Waiting on the meal, I already put my plate up! Nigga fall back up, I already put my rake up Everytime I leave the booth, they put yellow tape up Hair weave killer, messing up her make-up Pyrex vision and I’m bout to cook a cake up Get a fork, add a little water Get on any track, and I ride it like Marauder\""
      ]
     },
     "execution_count": 1044,
     "metadata": {},
     "output_type": "execute_result"
    }
   ],
   "source": [
    "hh_df[hh_df.topic == 1].iloc[345,11]"
   ]
  },
  {
   "cell_type": "code",
   "execution_count": 1045,
   "metadata": {
    "ExecuteTime": {
     "end_time": "2020-02-28T04:37:53.977988Z",
     "start_time": "2020-02-28T04:37:53.958848Z"
    }
   },
   "outputs": [
    {
     "data": {
      "text/plain": [
       "array([0.00094467, 0.08500796, 0.00099459, 0.        , 0.09978208,\n",
       "       0.49450812, 0.        , 0.00050988, 0.        ])"
      ]
     },
     "execution_count": 1045,
     "metadata": {},
     "output_type": "execute_result"
    }
   ],
   "source": [
    "hh_df[hh_df.topic == 5].iloc[21,13]"
   ]
  },
  {
   "cell_type": "markdown",
   "metadata": {},
   "source": [
    "#### Aggregating to the song level from verse level documents"
   ]
  },
  {
   "cell_type": "code",
   "execution_count": 1046,
   "metadata": {
    "ExecuteTime": {
     "end_time": "2020-02-28T04:37:54.012118Z",
     "start_time": "2020-02-28T04:37:53.983141Z"
    }
   },
   "outputs": [],
   "source": [
    "no_unsure = hh_df[~(hh_df.topic == 1)]"
   ]
  },
  {
   "cell_type": "code",
   "execution_count": 1048,
   "metadata": {
    "ExecuteTime": {
     "end_time": "2020-02-28T04:38:01.861085Z",
     "start_time": "2020-02-28T04:37:54.034086Z"
    }
   },
   "outputs": [],
   "source": [
    "df = no_unsure.groupby(['Singer','Album','Song','Year','Date']).top_coef.apply(lambda x : np.mean(x)).reset_index()\n",
    "rap_df = pd.DataFrame(df)"
   ]
  },
  {
   "cell_type": "code",
   "execution_count": 1049,
   "metadata": {
    "ExecuteTime": {
     "end_time": "2020-02-28T04:38:01.886797Z",
     "start_time": "2020-02-28T04:38:01.863442Z"
    }
   },
   "outputs": [
    {
     "data": {
      "text/html": [
       "<div>\n",
       "<style scoped>\n",
       "    .dataframe tbody tr th:only-of-type {\n",
       "        vertical-align: middle;\n",
       "    }\n",
       "\n",
       "    .dataframe tbody tr th {\n",
       "        vertical-align: top;\n",
       "    }\n",
       "\n",
       "    .dataframe thead th {\n",
       "        text-align: right;\n",
       "    }\n",
       "</style>\n",
       "<table border=\"1\" class=\"dataframe\">\n",
       "  <thead>\n",
       "    <tr style=\"text-align: right;\">\n",
       "      <th></th>\n",
       "      <th>Singer</th>\n",
       "      <th>Album</th>\n",
       "      <th>Song</th>\n",
       "      <th>Year</th>\n",
       "      <th>Date</th>\n",
       "      <th>top_coef</th>\n",
       "    </tr>\n",
       "  </thead>\n",
       "  <tbody>\n",
       "    <tr>\n",
       "      <td>0</td>\n",
       "      <td>$UICIDEBOY$</td>\n",
       "      <td>7th or St. Tammany</td>\n",
       "      <td>40 Oz. &amp; Sober</td>\n",
       "      <td>2015</td>\n",
       "      <td>2015-04-02</td>\n",
       "      <td>[0.0, 0.09134410278955402, 0.0, 0.103005551534...</td>\n",
       "    </tr>\n",
       "    <tr>\n",
       "      <td>1</td>\n",
       "      <td>$UICIDEBOY$</td>\n",
       "      <td>7th or St. Tammany</td>\n",
       "      <td>Dead Batteries</td>\n",
       "      <td>2015</td>\n",
       "      <td>2015-03-19</td>\n",
       "      <td>[0.0006795291493419057, 0.0, 0.0, 0.0071255702...</td>\n",
       "    </tr>\n",
       "    <tr>\n",
       "      <td>2</td>\n",
       "      <td>$UICIDEBOY$</td>\n",
       "      <td>7th or St. Tammany</td>\n",
       "      <td>Drugs/Hoes/Money/Etc.</td>\n",
       "      <td>2015</td>\n",
       "      <td>2015-04-02</td>\n",
       "      <td>[0.012087499840015241, 0.029928013443757333, 0...</td>\n",
       "    </tr>\n",
       "  </tbody>\n",
       "</table>\n",
       "</div>"
      ],
      "text/plain": [
       "        Singer               Album                   Song  Year        Date  \\\n",
       "0  $UICIDEBOY$  7th or St. Tammany         40 Oz. & Sober  2015  2015-04-02   \n",
       "1  $UICIDEBOY$  7th or St. Tammany         Dead Batteries  2015  2015-03-19   \n",
       "2  $UICIDEBOY$  7th or St. Tammany  Drugs/Hoes/Money/Etc.  2015  2015-04-02   \n",
       "\n",
       "                                            top_coef  \n",
       "0  [0.0, 0.09134410278955402, 0.0, 0.103005551534...  \n",
       "1  [0.0006795291493419057, 0.0, 0.0, 0.0071255702...  \n",
       "2  [0.012087499840015241, 0.029928013443757333, 0...  "
      ]
     },
     "execution_count": 1049,
     "metadata": {},
     "output_type": "execute_result"
    }
   ],
   "source": [
    "rap_df.head(3)"
   ]
  },
  {
   "cell_type": "code",
   "execution_count": 1050,
   "metadata": {
    "ExecuteTime": {
     "end_time": "2020-02-28T04:38:01.935646Z",
     "start_time": "2020-02-28T04:38:01.895279Z"
    }
   },
   "outputs": [],
   "source": [
    "topic_list = []\n",
    "for document in rap_df['top_coef']:\n",
    "    maj_topic = document.argmax()\n",
    "    topic_list.append(maj_topic)\n",
    "\n",
    "rap_df['topic'] = topic_list"
   ]
  },
  {
   "cell_type": "code",
   "execution_count": 1159,
   "metadata": {
    "ExecuteTime": {
     "end_time": "2020-02-28T14:44:32.051679Z",
     "start_time": "2020-02-28T14:44:32.000400Z"
    }
   },
   "outputs": [],
   "source": [
    "dic = {0: 'Money', 1: 'Unsure', 2: 'Hood Life', 3: 'Drug/Gangster', 4: 'Sex', 5: 'Love/Affection', 6: 'Music/Rap Skills', 7: 'Emotion/Hardship', 8: 'Club/Hookup'}\n",
    "\n",
    "topic_names = []\n",
    "for i in rap_df['topic']:\n",
    "    topic = dic[i]\n",
    "    topic_names.append(topic)\n",
    "    \n",
    "rap_df['topic_names'] = topic_names"
   ]
  },
  {
   "cell_type": "markdown",
   "metadata": {},
   "source": [
    "#### Analyzing topic changes over time"
   ]
  },
  {
   "cell_type": "code",
   "execution_count": 1160,
   "metadata": {
    "ExecuteTime": {
     "end_time": "2020-02-28T14:44:38.074885Z",
     "start_time": "2020-02-28T14:44:37.975447Z"
    }
   },
   "outputs": [
    {
     "data": {
      "text/html": [
       "<div>\n",
       "<style scoped>\n",
       "    .dataframe tbody tr th:only-of-type {\n",
       "        vertical-align: middle;\n",
       "    }\n",
       "\n",
       "    .dataframe tbody tr th {\n",
       "        vertical-align: top;\n",
       "    }\n",
       "\n",
       "    .dataframe thead th {\n",
       "        text-align: right;\n",
       "    }\n",
       "</style>\n",
       "<table border=\"1\" class=\"dataframe\">\n",
       "  <thead>\n",
       "    <tr style=\"text-align: right;\">\n",
       "      <th></th>\n",
       "      <th>Singer</th>\n",
       "      <th>Album</th>\n",
       "      <th>Song</th>\n",
       "      <th>Year</th>\n",
       "      <th>Date</th>\n",
       "      <th>top_coef</th>\n",
       "      <th>topic</th>\n",
       "      <th>topic_names</th>\n",
       "      <th>year_range</th>\n",
       "    </tr>\n",
       "  </thead>\n",
       "  <tbody>\n",
       "    <tr>\n",
       "      <td>0</td>\n",
       "      <td>$UICIDEBOY$</td>\n",
       "      <td>7th or St. Tammany</td>\n",
       "      <td>40 Oz. &amp; Sober</td>\n",
       "      <td>2015</td>\n",
       "      <td>2015-04-02</td>\n",
       "      <td>[0.0, 0.09134410278955402, 0.0, 0.103005551534...</td>\n",
       "      <td>3</td>\n",
       "      <td>Drug/Gangster</td>\n",
       "      <td>2015-2020</td>\n",
       "    </tr>\n",
       "    <tr>\n",
       "      <td>1</td>\n",
       "      <td>$UICIDEBOY$</td>\n",
       "      <td>7th or St. Tammany</td>\n",
       "      <td>Dead Batteries</td>\n",
       "      <td>2015</td>\n",
       "      <td>2015-03-19</td>\n",
       "      <td>[0.0006795291493419057, 0.0, 0.0, 0.0071255702...</td>\n",
       "      <td>6</td>\n",
       "      <td>Music/Rap Skills</td>\n",
       "      <td>2015-2020</td>\n",
       "    </tr>\n",
       "    <tr>\n",
       "      <td>2</td>\n",
       "      <td>$UICIDEBOY$</td>\n",
       "      <td>7th or St. Tammany</td>\n",
       "      <td>Drugs/Hoes/Money/Etc.</td>\n",
       "      <td>2015</td>\n",
       "      <td>2015-04-02</td>\n",
       "      <td>[0.012087499840015241, 0.029928013443757333, 0...</td>\n",
       "      <td>6</td>\n",
       "      <td>Music/Rap Skills</td>\n",
       "      <td>2015-2020</td>\n",
       "    </tr>\n",
       "    <tr>\n",
       "      <td>3</td>\n",
       "      <td>$UICIDEBOY$</td>\n",
       "      <td>7th or St. Tammany</td>\n",
       "      <td>I’ll Pay for It (If I Want It)</td>\n",
       "      <td>2015</td>\n",
       "      <td>2015-04-02</td>\n",
       "      <td>[0.08435964611053715, 0.009378802805212682, 0....</td>\n",
       "      <td>6</td>\n",
       "      <td>Music/Rap Skills</td>\n",
       "      <td>2015-2020</td>\n",
       "    </tr>\n",
       "    <tr>\n",
       "      <td>4</td>\n",
       "      <td>$UICIDEBOY$</td>\n",
       "      <td>7th or St. Tammany</td>\n",
       "      <td>Leave Your Things Behind</td>\n",
       "      <td>2015</td>\n",
       "      <td>2015-04-02</td>\n",
       "      <td>[0.0, 0.0654807867879982, 0.0, 0.0, 0.0, 0.005...</td>\n",
       "      <td>6</td>\n",
       "      <td>Music/Rap Skills</td>\n",
       "      <td>2015-2020</td>\n",
       "    </tr>\n",
       "  </tbody>\n",
       "</table>\n",
       "</div>"
      ],
      "text/plain": [
       "        Singer               Album                            Song  Year  \\\n",
       "0  $UICIDEBOY$  7th or St. Tammany                  40 Oz. & Sober  2015   \n",
       "1  $UICIDEBOY$  7th or St. Tammany                  Dead Batteries  2015   \n",
       "2  $UICIDEBOY$  7th or St. Tammany           Drugs/Hoes/Money/Etc.  2015   \n",
       "3  $UICIDEBOY$  7th or St. Tammany  I’ll Pay for It (If I Want It)  2015   \n",
       "4  $UICIDEBOY$  7th or St. Tammany        Leave Your Things Behind  2015   \n",
       "\n",
       "         Date                                           top_coef  topic  \\\n",
       "0  2015-04-02  [0.0, 0.09134410278955402, 0.0, 0.103005551534...      3   \n",
       "1  2015-03-19  [0.0006795291493419057, 0.0, 0.0, 0.0071255702...      6   \n",
       "2  2015-04-02  [0.012087499840015241, 0.029928013443757333, 0...      6   \n",
       "3  2015-04-02  [0.08435964611053715, 0.009378802805212682, 0....      6   \n",
       "4  2015-04-02  [0.0, 0.0654807867879982, 0.0, 0.0, 0.0, 0.005...      6   \n",
       "\n",
       "        topic_names year_range  \n",
       "0     Drug/Gangster  2015-2020  \n",
       "1  Music/Rap Skills  2015-2020  \n",
       "2  Music/Rap Skills  2015-2020  \n",
       "3  Music/Rap Skills  2015-2020  \n",
       "4  Music/Rap Skills  2015-2020  "
      ]
     },
     "execution_count": 1160,
     "metadata": {},
     "output_type": "execute_result"
    }
   ],
   "source": [
    "def year_range(x):\n",
    "    if x < '1980':\n",
    "        return '1970s or older'\n",
    "    elif x>='1980' and x<'1985':\n",
    "        return '1980-1985'\n",
    "    elif x>='1985' and x<'1990':\n",
    "        return '1985-1990'\n",
    "    elif x>='1990' and x<'1995':\n",
    "        return '1990-1995'\n",
    "    elif x>='1995' and x<'2000':\n",
    "        return '1995-2000'\n",
    "    elif x>='2000' and x<'2005':\n",
    "        return '2000-2005'\n",
    "    elif x>='2005' and x<'2010':\n",
    "        return '2005-2010'\n",
    "    elif x>='2010' and x<'2015':\n",
    "        return '2010-2015'\n",
    "    else:\n",
    "        return '2015-2020'\n",
    "\n",
    "rap_df['year_range'] = rap_df.Year.apply(year_range)\n",
    "rap_df.head()"
   ]
  },
  {
   "cell_type": "code",
   "execution_count": 1161,
   "metadata": {
    "ExecuteTime": {
     "end_time": "2020-02-28T14:44:42.710802Z",
     "start_time": "2020-02-28T14:44:42.663714Z"
    },
    "scrolled": true
   },
   "outputs": [
    {
     "data": {
      "text/html": [
       "<div>\n",
       "<style scoped>\n",
       "    .dataframe tbody tr th:only-of-type {\n",
       "        vertical-align: middle;\n",
       "    }\n",
       "\n",
       "    .dataframe tbody tr th {\n",
       "        vertical-align: top;\n",
       "    }\n",
       "\n",
       "    .dataframe thead th {\n",
       "        text-align: right;\n",
       "    }\n",
       "</style>\n",
       "<table border=\"1\" class=\"dataframe\">\n",
       "  <thead>\n",
       "    <tr style=\"text-align: right;\">\n",
       "      <th></th>\n",
       "      <th>year_range</th>\n",
       "      <th>topic_names</th>\n",
       "      <th>Song</th>\n",
       "    </tr>\n",
       "  </thead>\n",
       "  <tbody>\n",
       "    <tr>\n",
       "      <td>0</td>\n",
       "      <td>1970s or older</td>\n",
       "      <td>Club/Hookup</td>\n",
       "      <td>2</td>\n",
       "    </tr>\n",
       "    <tr>\n",
       "      <td>1</td>\n",
       "      <td>1970s or older</td>\n",
       "      <td>Drug/Gangster</td>\n",
       "      <td>3</td>\n",
       "    </tr>\n",
       "    <tr>\n",
       "      <td>2</td>\n",
       "      <td>1970s or older</td>\n",
       "      <td>Emotion/Hardship</td>\n",
       "      <td>8</td>\n",
       "    </tr>\n",
       "    <tr>\n",
       "      <td>3</td>\n",
       "      <td>1970s or older</td>\n",
       "      <td>Hood Life</td>\n",
       "      <td>7</td>\n",
       "    </tr>\n",
       "    <tr>\n",
       "      <td>4</td>\n",
       "      <td>1970s or older</td>\n",
       "      <td>Love/Affection</td>\n",
       "      <td>5</td>\n",
       "    </tr>\n",
       "    <tr>\n",
       "      <td>...</td>\n",
       "      <td>...</td>\n",
       "      <td>...</td>\n",
       "      <td>...</td>\n",
       "    </tr>\n",
       "    <tr>\n",
       "      <td>75</td>\n",
       "      <td>2015-2020</td>\n",
       "      <td>Love/Affection</td>\n",
       "      <td>1012</td>\n",
       "    </tr>\n",
       "    <tr>\n",
       "      <td>76</td>\n",
       "      <td>2015-2020</td>\n",
       "      <td>Money</td>\n",
       "      <td>2602</td>\n",
       "    </tr>\n",
       "    <tr>\n",
       "      <td>77</td>\n",
       "      <td>2015-2020</td>\n",
       "      <td>Music/Rap Skills</td>\n",
       "      <td>901</td>\n",
       "    </tr>\n",
       "    <tr>\n",
       "      <td>78</td>\n",
       "      <td>2015-2020</td>\n",
       "      <td>Sex</td>\n",
       "      <td>1096</td>\n",
       "    </tr>\n",
       "    <tr>\n",
       "      <td>79</td>\n",
       "      <td>2015-2020</td>\n",
       "      <td>Unsure</td>\n",
       "      <td>276</td>\n",
       "    </tr>\n",
       "  </tbody>\n",
       "</table>\n",
       "<p>80 rows × 3 columns</p>\n",
       "</div>"
      ],
      "text/plain": [
       "        year_range       topic_names  Song\n",
       "0   1970s or older       Club/Hookup     2\n",
       "1   1970s or older     Drug/Gangster     3\n",
       "2   1970s or older  Emotion/Hardship     8\n",
       "3   1970s or older         Hood Life     7\n",
       "4   1970s or older    Love/Affection     5\n",
       "..             ...               ...   ...\n",
       "75       2015-2020    Love/Affection  1012\n",
       "76       2015-2020             Money  2602\n",
       "77       2015-2020  Music/Rap Skills   901\n",
       "78       2015-2020               Sex  1096\n",
       "79       2015-2020            Unsure   276\n",
       "\n",
       "[80 rows x 3 columns]"
      ]
     },
     "execution_count": 1161,
     "metadata": {},
     "output_type": "execute_result"
    }
   ],
   "source": [
    "topic_change = rap_df.groupby(['year_range','topic_names'], as_index = False).Song.count()\n",
    "topic_change "
   ]
  },
  {
   "cell_type": "code",
   "execution_count": 1162,
   "metadata": {
    "ExecuteTime": {
     "end_time": "2020-02-28T14:44:44.439988Z",
     "start_time": "2020-02-28T14:44:44.374162Z"
    }
   },
   "outputs": [
    {
     "data": {
      "text/html": [
       "<div>\n",
       "<style scoped>\n",
       "    .dataframe tbody tr th:only-of-type {\n",
       "        vertical-align: middle;\n",
       "    }\n",
       "\n",
       "    .dataframe tbody tr th {\n",
       "        vertical-align: top;\n",
       "    }\n",
       "\n",
       "    .dataframe thead th {\n",
       "        text-align: right;\n",
       "    }\n",
       "</style>\n",
       "<table border=\"1\" class=\"dataframe\">\n",
       "  <thead>\n",
       "    <tr style=\"text-align: right;\">\n",
       "      <th></th>\n",
       "      <th>year_range</th>\n",
       "      <th>topic_names</th>\n",
       "      <th>Song</th>\n",
       "      <th>Total</th>\n",
       "      <th>ratio</th>\n",
       "    </tr>\n",
       "  </thead>\n",
       "  <tbody>\n",
       "    <tr>\n",
       "      <td>0</td>\n",
       "      <td>1970s or older</td>\n",
       "      <td>Club/Hookup</td>\n",
       "      <td>2</td>\n",
       "      <td>38</td>\n",
       "      <td>0.05</td>\n",
       "    </tr>\n",
       "    <tr>\n",
       "      <td>1</td>\n",
       "      <td>1970s or older</td>\n",
       "      <td>Drug/Gangster</td>\n",
       "      <td>3</td>\n",
       "      <td>38</td>\n",
       "      <td>0.08</td>\n",
       "    </tr>\n",
       "    <tr>\n",
       "      <td>2</td>\n",
       "      <td>1970s or older</td>\n",
       "      <td>Emotion/Hardship</td>\n",
       "      <td>8</td>\n",
       "      <td>38</td>\n",
       "      <td>0.21</td>\n",
       "    </tr>\n",
       "    <tr>\n",
       "      <td>3</td>\n",
       "      <td>1970s or older</td>\n",
       "      <td>Hood Life</td>\n",
       "      <td>7</td>\n",
       "      <td>38</td>\n",
       "      <td>0.18</td>\n",
       "    </tr>\n",
       "    <tr>\n",
       "      <td>4</td>\n",
       "      <td>1970s or older</td>\n",
       "      <td>Love/Affection</td>\n",
       "      <td>5</td>\n",
       "      <td>38</td>\n",
       "      <td>0.13</td>\n",
       "    </tr>\n",
       "    <tr>\n",
       "      <td>...</td>\n",
       "      <td>...</td>\n",
       "      <td>...</td>\n",
       "      <td>...</td>\n",
       "      <td>...</td>\n",
       "      <td>...</td>\n",
       "    </tr>\n",
       "    <tr>\n",
       "      <td>75</td>\n",
       "      <td>2015-2020</td>\n",
       "      <td>Love/Affection</td>\n",
       "      <td>1012</td>\n",
       "      <td>10495</td>\n",
       "      <td>0.10</td>\n",
       "    </tr>\n",
       "    <tr>\n",
       "      <td>76</td>\n",
       "      <td>2015-2020</td>\n",
       "      <td>Money</td>\n",
       "      <td>2602</td>\n",
       "      <td>10495</td>\n",
       "      <td>0.25</td>\n",
       "    </tr>\n",
       "    <tr>\n",
       "      <td>77</td>\n",
       "      <td>2015-2020</td>\n",
       "      <td>Music/Rap Skills</td>\n",
       "      <td>901</td>\n",
       "      <td>10495</td>\n",
       "      <td>0.09</td>\n",
       "    </tr>\n",
       "    <tr>\n",
       "      <td>78</td>\n",
       "      <td>2015-2020</td>\n",
       "      <td>Sex</td>\n",
       "      <td>1096</td>\n",
       "      <td>10495</td>\n",
       "      <td>0.10</td>\n",
       "    </tr>\n",
       "    <tr>\n",
       "      <td>79</td>\n",
       "      <td>2015-2020</td>\n",
       "      <td>Unsure</td>\n",
       "      <td>276</td>\n",
       "      <td>10495</td>\n",
       "      <td>0.03</td>\n",
       "    </tr>\n",
       "  </tbody>\n",
       "</table>\n",
       "<p>80 rows × 5 columns</p>\n",
       "</div>"
      ],
      "text/plain": [
       "        year_range       topic_names  Song  Total  ratio\n",
       "0   1970s or older       Club/Hookup     2     38   0.05\n",
       "1   1970s or older     Drug/Gangster     3     38   0.08\n",
       "2   1970s or older  Emotion/Hardship     8     38   0.21\n",
       "3   1970s or older         Hood Life     7     38   0.18\n",
       "4   1970s or older    Love/Affection     5     38   0.13\n",
       "..             ...               ...   ...    ...    ...\n",
       "75       2015-2020    Love/Affection  1012  10495   0.10\n",
       "76       2015-2020             Money  2602  10495   0.25\n",
       "77       2015-2020  Music/Rap Skills   901  10495   0.09\n",
       "78       2015-2020               Sex  1096  10495   0.10\n",
       "79       2015-2020            Unsure   276  10495   0.03\n",
       "\n",
       "[80 rows x 5 columns]"
      ]
     },
     "execution_count": 1162,
     "metadata": {},
     "output_type": "execute_result"
    }
   ],
   "source": [
    "total = topic_change.groupby('year_range', as_index = False).Song.sum().rename(columns = {'Song': 'Total'})\n",
    "topic_change = pd.merge(topic_change, total, how = 'left', on = 'year_range')\n",
    "topic_change['ratio'] = topic_change['Song']/topic_change['Total']\n",
    "topic_change"
   ]
  },
  {
   "cell_type": "code",
   "execution_count": 1163,
   "metadata": {
    "ExecuteTime": {
     "end_time": "2020-02-28T14:44:50.913992Z",
     "start_time": "2020-02-28T14:44:50.418479Z"
    }
   },
   "outputs": [
    {
     "data": {
      "image/png": "[encoded data removed]",
      "text/plain": [
       "<Figure size 1152x576 with 1 Axes>"
      ]
     },
     "metadata": {},
     "output_type": "display_data"
    }
   ],
   "source": [
    "def makegraph(topic_chage):\n",
    "    dic = {0: 'Money', 3: 'Drug/Gangster', 6: 'Music/Rap Skills', 7: 'Emotion/Hardship'}\n",
    "    #dic = {0: 'Money', 2: 'Hood Life', 3: 'Drug/Gangster', 4: 'Sex', 5: 'Love/Affection', 6: 'Rap Skills', 7: 'Emotion/Hardship', 8: 'Club/Hookup'}\n",
    "    plt.figure(figsize = [16, 8])  \n",
    "    plt.xticks(rotation = 45, fontsize = 13)\n",
    "    plt.yticks(fontsize = 13)\n",
    "    plt.title('Rap Lyrics: Topic Change Over Time', fontsize = 15)\n",
    "    for key, value in dic.items():\n",
    "        df = topic_change[topic_change.topic_names == value]\n",
    "        plt.plot(df.year_range, df.ratio, label = value)\n",
    "        plt.legend(fontsize = 13)\n",
    "\n",
    "\n",
    "makegraph(topic_change)"
   ]
  },
  {
   "cell_type": "markdown",
   "metadata": {
    "ExecuteTime": {
     "end_time": "2020-02-26T22:12:17.359756Z",
     "start_time": "2020-02-26T22:12:17.354081Z"
    }
   },
   "source": [
    "#### Lyrics: Lil Wayne vs Kanye West"
   ]
  },
  {
   "cell_type": "code",
   "execution_count": 1057,
   "metadata": {
    "ExecuteTime": {
     "end_time": "2020-02-28T04:38:02.718817Z",
     "start_time": "2020-02-28T04:38:02.687813Z"
    }
   },
   "outputs": [
    {
     "data": {
      "text/html": [
       "<div>\n",
       "<style scoped>\n",
       "    .dataframe tbody tr th:only-of-type {\n",
       "        vertical-align: middle;\n",
       "    }\n",
       "\n",
       "    .dataframe tbody tr th {\n",
       "        vertical-align: top;\n",
       "    }\n",
       "\n",
       "    .dataframe thead th {\n",
       "        text-align: right;\n",
       "    }\n",
       "</style>\n",
       "<table border=\"1\" class=\"dataframe\">\n",
       "  <thead>\n",
       "    <tr style=\"text-align: right;\">\n",
       "      <th></th>\n",
       "      <th>Singer</th>\n",
       "      <th>Album</th>\n",
       "      <th>Song</th>\n",
       "      <th>Year</th>\n",
       "      <th>Date</th>\n",
       "      <th>top_coef</th>\n",
       "      <th>topic</th>\n",
       "      <th>topic_names</th>\n",
       "      <th>year_range</th>\n",
       "    </tr>\n",
       "  </thead>\n",
       "  <tbody>\n",
       "    <tr>\n",
       "      <td>12126</td>\n",
       "      <td>Lil Wayne</td>\n",
       "      <td>500 Degreez</td>\n",
       "      <td>500 Degreez</td>\n",
       "      <td>2002</td>\n",
       "      <td>2002-07-23</td>\n",
       "      <td>[0.06746558783243843, 0.03225998241284756, 0.0...</td>\n",
       "      <td>5</td>\n",
       "      <td>Love/Affection</td>\n",
       "      <td>2000-2005</td>\n",
       "    </tr>\n",
       "    <tr>\n",
       "      <td>12127</td>\n",
       "      <td>Lil Wayne</td>\n",
       "      <td>500 Degreez</td>\n",
       "      <td>Believe That</td>\n",
       "      <td>2002</td>\n",
       "      <td>2002-07-23</td>\n",
       "      <td>[0.010082515377322996, 0.0, 0.1773802775534920...</td>\n",
       "      <td>2</td>\n",
       "      <td>Hood Life</td>\n",
       "      <td>2000-2005</td>\n",
       "    </tr>\n",
       "    <tr>\n",
       "      <td>12128</td>\n",
       "      <td>Lil Wayne</td>\n",
       "      <td>500 Degreez</td>\n",
       "      <td>Bloodline</td>\n",
       "      <td>2002</td>\n",
       "      <td>2002-07-23</td>\n",
       "      <td>[0.002541392154770522, 0.03471559708159655, 0....</td>\n",
       "      <td>3</td>\n",
       "      <td>Drug/Gangster</td>\n",
       "      <td>2000-2005</td>\n",
       "    </tr>\n",
       "    <tr>\n",
       "      <td>12129</td>\n",
       "      <td>Lil Wayne</td>\n",
       "      <td>500 Degreez</td>\n",
       "      <td>Fo Sheezy</td>\n",
       "      <td>2002</td>\n",
       "      <td>2002-07-23</td>\n",
       "      <td>[0.061351392637628184, 0.05844566979859551, 0....</td>\n",
       "      <td>2</td>\n",
       "      <td>Hood Life</td>\n",
       "      <td>2000-2005</td>\n",
       "    </tr>\n",
       "    <tr>\n",
       "      <td>12130</td>\n",
       "      <td>Lil Wayne</td>\n",
       "      <td>500 Degreez</td>\n",
       "      <td>Fuck You</td>\n",
       "      <td>2002</td>\n",
       "      <td>2002-07-23</td>\n",
       "      <td>[0.20766683813361925, 0.03551955430305959, 0.0...</td>\n",
       "      <td>0</td>\n",
       "      <td>Money</td>\n",
       "      <td>2000-2005</td>\n",
       "    </tr>\n",
       "    <tr>\n",
       "      <td>...</td>\n",
       "      <td>...</td>\n",
       "      <td>...</td>\n",
       "      <td>...</td>\n",
       "      <td>...</td>\n",
       "      <td>...</td>\n",
       "      <td>...</td>\n",
       "      <td>...</td>\n",
       "      <td>...</td>\n",
       "      <td>...</td>\n",
       "    </tr>\n",
       "    <tr>\n",
       "      <td>12614</td>\n",
       "      <td>Lil Wayne</td>\n",
       "      <td>Young Money Mixtape Vol 1.</td>\n",
       "      <td>Bass Beat</td>\n",
       "      <td>2005</td>\n",
       "      <td>2005-12-13</td>\n",
       "      <td>[0.2756840374687323, 0.055261064575270503, 0.0...</td>\n",
       "      <td>0</td>\n",
       "      <td>Money</td>\n",
       "      <td>2005-2010</td>\n",
       "    </tr>\n",
       "    <tr>\n",
       "      <td>12615</td>\n",
       "      <td>Lil Wayne</td>\n",
       "      <td>Young Money Mixtape Vol 1.</td>\n",
       "      <td>Dis How We Do</td>\n",
       "      <td>2006</td>\n",
       "      <td>2006-10-10</td>\n",
       "      <td>[0.16004430663936275, 0.010478498725421262, 0....</td>\n",
       "      <td>2</td>\n",
       "      <td>Hood Life</td>\n",
       "      <td>2005-2010</td>\n",
       "    </tr>\n",
       "    <tr>\n",
       "      <td>12616</td>\n",
       "      <td>Lil Wayne</td>\n",
       "      <td>Young Money Mixtape Vol 1.</td>\n",
       "      <td>I Call It Whateva</td>\n",
       "      <td>2005</td>\n",
       "      <td>2005-10-10</td>\n",
       "      <td>[0.10526843628318629, 0.0864777343598982, 0.0,...</td>\n",
       "      <td>5</td>\n",
       "      <td>Love/Affection</td>\n",
       "      <td>2005-2010</td>\n",
       "    </tr>\n",
       "    <tr>\n",
       "      <td>12617</td>\n",
       "      <td>Lil Wayne</td>\n",
       "      <td>Young Money Mixtape Vol 1.</td>\n",
       "      <td>Lean Back</td>\n",
       "      <td>2006</td>\n",
       "      <td>2006-10-06</td>\n",
       "      <td>[0.22573055527244965, 0.06301966174705256, 0.0...</td>\n",
       "      <td>0</td>\n",
       "      <td>Money</td>\n",
       "      <td>2005-2010</td>\n",
       "    </tr>\n",
       "    <tr>\n",
       "      <td>12618</td>\n",
       "      <td>Lil Wayne</td>\n",
       "      <td>Young Money Mixtape Vol 1.</td>\n",
       "      <td>Over Here</td>\n",
       "      <td>2005</td>\n",
       "      <td>2005-12-13</td>\n",
       "      <td>[0.16007904145529517, 0.04940567360590093, 0.0...</td>\n",
       "      <td>5</td>\n",
       "      <td>Love/Affection</td>\n",
       "      <td>2005-2010</td>\n",
       "    </tr>\n",
       "  </tbody>\n",
       "</table>\n",
       "<p>493 rows × 9 columns</p>\n",
       "</div>"
      ],
      "text/plain": [
       "          Singer                       Album               Song  Year  \\\n",
       "12126  Lil Wayne                 500 Degreez        500 Degreez  2002   \n",
       "12127  Lil Wayne                 500 Degreez       Believe That  2002   \n",
       "12128  Lil Wayne                 500 Degreez          Bloodline  2002   \n",
       "12129  Lil Wayne                 500 Degreez          Fo Sheezy  2002   \n",
       "12130  Lil Wayne                 500 Degreez           Fuck You  2002   \n",
       "...          ...                         ...                ...   ...   \n",
       "12614  Lil Wayne  Young Money Mixtape Vol 1.          Bass Beat  2005   \n",
       "12615  Lil Wayne  Young Money Mixtape Vol 1.      Dis How We Do  2006   \n",
       "12616  Lil Wayne  Young Money Mixtape Vol 1.  I Call It Whateva  2005   \n",
       "12617  Lil Wayne  Young Money Mixtape Vol 1.          Lean Back  2006   \n",
       "12618  Lil Wayne  Young Money Mixtape Vol 1.          Over Here  2005   \n",
       "\n",
       "             Date                                           top_coef  topic  \\\n",
       "12126  2002-07-23  [0.06746558783243843, 0.03225998241284756, 0.0...      5   \n",
       "12127  2002-07-23  [0.010082515377322996, 0.0, 0.1773802775534920...      2   \n",
       "12128  2002-07-23  [0.002541392154770522, 0.03471559708159655, 0....      3   \n",
       "12129  2002-07-23  [0.061351392637628184, 0.05844566979859551, 0....      2   \n",
       "12130  2002-07-23  [0.20766683813361925, 0.03551955430305959, 0.0...      0   \n",
       "...           ...                                                ...    ...   \n",
       "12614  2005-12-13  [0.2756840374687323, 0.055261064575270503, 0.0...      0   \n",
       "12615  2006-10-10  [0.16004430663936275, 0.010478498725421262, 0....      2   \n",
       "12616  2005-10-10  [0.10526843628318629, 0.0864777343598982, 0.0,...      5   \n",
       "12617  2006-10-06  [0.22573055527244965, 0.06301966174705256, 0.0...      0   \n",
       "12618  2005-12-13  [0.16007904145529517, 0.04940567360590093, 0.0...      5   \n",
       "\n",
       "          topic_names year_range  \n",
       "12126  Love/Affection  2000-2005  \n",
       "12127       Hood Life  2000-2005  \n",
       "12128   Drug/Gangster  2000-2005  \n",
       "12129       Hood Life  2000-2005  \n",
       "12130           Money  2000-2005  \n",
       "...               ...        ...  \n",
       "12614           Money  2005-2010  \n",
       "12615       Hood Life  2005-2010  \n",
       "12616  Love/Affection  2005-2010  \n",
       "12617           Money  2005-2010  \n",
       "12618  Love/Affection  2005-2010  \n",
       "\n",
       "[493 rows x 9 columns]"
      ]
     },
     "execution_count": 1057,
     "metadata": {},
     "output_type": "execute_result"
    }
   ],
   "source": [
    "lw_df = rap_df[rap_df.Singer == 'Lil Wayne']\n",
    "lw_df"
   ]
  },
  {
   "cell_type": "code",
   "execution_count": 1058,
   "metadata": {
    "ExecuteTime": {
     "end_time": "2020-02-28T04:38:02.762379Z",
     "start_time": "2020-02-28T04:38:02.722578Z"
    }
   },
   "outputs": [
    {
     "data": {
      "text/html": [
       "<div>\n",
       "<style scoped>\n",
       "    .dataframe tbody tr th:only-of-type {\n",
       "        vertical-align: middle;\n",
       "    }\n",
       "\n",
       "    .dataframe tbody tr th {\n",
       "        vertical-align: top;\n",
       "    }\n",
       "\n",
       "    .dataframe thead th {\n",
       "        text-align: right;\n",
       "    }\n",
       "</style>\n",
       "<table border=\"1\" class=\"dataframe\">\n",
       "  <thead>\n",
       "    <tr style=\"text-align: right;\">\n",
       "      <th></th>\n",
       "      <th>year_range</th>\n",
       "      <th>topic_names</th>\n",
       "      <th>Song</th>\n",
       "      <th>Total</th>\n",
       "      <th>ratio</th>\n",
       "    </tr>\n",
       "  </thead>\n",
       "  <tbody>\n",
       "    <tr>\n",
       "      <td>0</td>\n",
       "      <td>1995-2000</td>\n",
       "      <td>Club/Hookup</td>\n",
       "      <td>1</td>\n",
       "      <td>14</td>\n",
       "      <td>0.07</td>\n",
       "    </tr>\n",
       "    <tr>\n",
       "      <td>1</td>\n",
       "      <td>1995-2000</td>\n",
       "      <td>Drug/Gangster</td>\n",
       "      <td>3</td>\n",
       "      <td>14</td>\n",
       "      <td>0.21</td>\n",
       "    </tr>\n",
       "    <tr>\n",
       "      <td>2</td>\n",
       "      <td>1995-2000</td>\n",
       "      <td>Hood Life</td>\n",
       "      <td>1</td>\n",
       "      <td>14</td>\n",
       "      <td>0.07</td>\n",
       "    </tr>\n",
       "    <tr>\n",
       "      <td>3</td>\n",
       "      <td>1995-2000</td>\n",
       "      <td>Money</td>\n",
       "      <td>3</td>\n",
       "      <td>14</td>\n",
       "      <td>0.21</td>\n",
       "    </tr>\n",
       "    <tr>\n",
       "      <td>4</td>\n",
       "      <td>1995-2000</td>\n",
       "      <td>Rap Skills</td>\n",
       "      <td>6</td>\n",
       "      <td>14</td>\n",
       "      <td>0.43</td>\n",
       "    </tr>\n",
       "    <tr>\n",
       "      <td>5</td>\n",
       "      <td>2000-2005</td>\n",
       "      <td>Club/Hookup</td>\n",
       "      <td>2</td>\n",
       "      <td>54</td>\n",
       "      <td>0.04</td>\n",
       "    </tr>\n",
       "    <tr>\n",
       "      <td>6</td>\n",
       "      <td>2000-2005</td>\n",
       "      <td>Drug/Gangster</td>\n",
       "      <td>9</td>\n",
       "      <td>54</td>\n",
       "      <td>0.17</td>\n",
       "    </tr>\n",
       "    <tr>\n",
       "      <td>7</td>\n",
       "      <td>2000-2005</td>\n",
       "      <td>Emotion/Hardship</td>\n",
       "      <td>1</td>\n",
       "      <td>54</td>\n",
       "      <td>0.02</td>\n",
       "    </tr>\n",
       "    <tr>\n",
       "      <td>8</td>\n",
       "      <td>2000-2005</td>\n",
       "      <td>Hood Life</td>\n",
       "      <td>4</td>\n",
       "      <td>54</td>\n",
       "      <td>0.07</td>\n",
       "    </tr>\n",
       "    <tr>\n",
       "      <td>9</td>\n",
       "      <td>2000-2005</td>\n",
       "      <td>Love/Affection</td>\n",
       "      <td>8</td>\n",
       "      <td>54</td>\n",
       "      <td>0.15</td>\n",
       "    </tr>\n",
       "    <tr>\n",
       "      <td>10</td>\n",
       "      <td>2000-2005</td>\n",
       "      <td>Money</td>\n",
       "      <td>16</td>\n",
       "      <td>54</td>\n",
       "      <td>0.30</td>\n",
       "    </tr>\n",
       "    <tr>\n",
       "      <td>11</td>\n",
       "      <td>2000-2005</td>\n",
       "      <td>Rap Skills</td>\n",
       "      <td>9</td>\n",
       "      <td>54</td>\n",
       "      <td>0.17</td>\n",
       "    </tr>\n",
       "    <tr>\n",
       "      <td>12</td>\n",
       "      <td>2000-2005</td>\n",
       "      <td>Sex</td>\n",
       "      <td>2</td>\n",
       "      <td>54</td>\n",
       "      <td>0.04</td>\n",
       "    </tr>\n",
       "    <tr>\n",
       "      <td>13</td>\n",
       "      <td>2000-2005</td>\n",
       "      <td>Unsure</td>\n",
       "      <td>3</td>\n",
       "      <td>54</td>\n",
       "      <td>0.06</td>\n",
       "    </tr>\n",
       "    <tr>\n",
       "      <td>14</td>\n",
       "      <td>2005-2010</td>\n",
       "      <td>Club/Hookup</td>\n",
       "      <td>11</td>\n",
       "      <td>205</td>\n",
       "      <td>0.05</td>\n",
       "    </tr>\n",
       "    <tr>\n",
       "      <td>15</td>\n",
       "      <td>2005-2010</td>\n",
       "      <td>Drug/Gangster</td>\n",
       "      <td>9</td>\n",
       "      <td>205</td>\n",
       "      <td>0.04</td>\n",
       "    </tr>\n",
       "    <tr>\n",
       "      <td>16</td>\n",
       "      <td>2005-2010</td>\n",
       "      <td>Emotion/Hardship</td>\n",
       "      <td>5</td>\n",
       "      <td>205</td>\n",
       "      <td>0.02</td>\n",
       "    </tr>\n",
       "    <tr>\n",
       "      <td>17</td>\n",
       "      <td>2005-2010</td>\n",
       "      <td>Hood Life</td>\n",
       "      <td>9</td>\n",
       "      <td>205</td>\n",
       "      <td>0.04</td>\n",
       "    </tr>\n",
       "    <tr>\n",
       "      <td>18</td>\n",
       "      <td>2005-2010</td>\n",
       "      <td>Love/Affection</td>\n",
       "      <td>21</td>\n",
       "      <td>205</td>\n",
       "      <td>0.10</td>\n",
       "    </tr>\n",
       "    <tr>\n",
       "      <td>19</td>\n",
       "      <td>2005-2010</td>\n",
       "      <td>Money</td>\n",
       "      <td>107</td>\n",
       "      <td>205</td>\n",
       "      <td>0.52</td>\n",
       "    </tr>\n",
       "    <tr>\n",
       "      <td>20</td>\n",
       "      <td>2005-2010</td>\n",
       "      <td>Rap Skills</td>\n",
       "      <td>20</td>\n",
       "      <td>205</td>\n",
       "      <td>0.10</td>\n",
       "    </tr>\n",
       "    <tr>\n",
       "      <td>21</td>\n",
       "      <td>2005-2010</td>\n",
       "      <td>Sex</td>\n",
       "      <td>17</td>\n",
       "      <td>205</td>\n",
       "      <td>0.08</td>\n",
       "    </tr>\n",
       "    <tr>\n",
       "      <td>22</td>\n",
       "      <td>2005-2010</td>\n",
       "      <td>Unsure</td>\n",
       "      <td>6</td>\n",
       "      <td>205</td>\n",
       "      <td>0.03</td>\n",
       "    </tr>\n",
       "    <tr>\n",
       "      <td>23</td>\n",
       "      <td>2010-2015</td>\n",
       "      <td>Club/Hookup</td>\n",
       "      <td>6</td>\n",
       "      <td>112</td>\n",
       "      <td>0.05</td>\n",
       "    </tr>\n",
       "    <tr>\n",
       "      <td>24</td>\n",
       "      <td>2010-2015</td>\n",
       "      <td>Drug/Gangster</td>\n",
       "      <td>3</td>\n",
       "      <td>112</td>\n",
       "      <td>0.03</td>\n",
       "    </tr>\n",
       "    <tr>\n",
       "      <td>25</td>\n",
       "      <td>2010-2015</td>\n",
       "      <td>Emotion/Hardship</td>\n",
       "      <td>4</td>\n",
       "      <td>112</td>\n",
       "      <td>0.04</td>\n",
       "    </tr>\n",
       "    <tr>\n",
       "      <td>26</td>\n",
       "      <td>2010-2015</td>\n",
       "      <td>Hood Life</td>\n",
       "      <td>10</td>\n",
       "      <td>112</td>\n",
       "      <td>0.09</td>\n",
       "    </tr>\n",
       "    <tr>\n",
       "      <td>27</td>\n",
       "      <td>2010-2015</td>\n",
       "      <td>Love/Affection</td>\n",
       "      <td>6</td>\n",
       "      <td>112</td>\n",
       "      <td>0.05</td>\n",
       "    </tr>\n",
       "    <tr>\n",
       "      <td>28</td>\n",
       "      <td>2010-2015</td>\n",
       "      <td>Money</td>\n",
       "      <td>46</td>\n",
       "      <td>112</td>\n",
       "      <td>0.41</td>\n",
       "    </tr>\n",
       "    <tr>\n",
       "      <td>29</td>\n",
       "      <td>2010-2015</td>\n",
       "      <td>Rap Skills</td>\n",
       "      <td>5</td>\n",
       "      <td>112</td>\n",
       "      <td>0.04</td>\n",
       "    </tr>\n",
       "    <tr>\n",
       "      <td>30</td>\n",
       "      <td>2010-2015</td>\n",
       "      <td>Sex</td>\n",
       "      <td>29</td>\n",
       "      <td>112</td>\n",
       "      <td>0.26</td>\n",
       "    </tr>\n",
       "    <tr>\n",
       "      <td>31</td>\n",
       "      <td>2010-2015</td>\n",
       "      <td>Unsure</td>\n",
       "      <td>3</td>\n",
       "      <td>112</td>\n",
       "      <td>0.03</td>\n",
       "    </tr>\n",
       "    <tr>\n",
       "      <td>32</td>\n",
       "      <td>2015-2020</td>\n",
       "      <td>Club/Hookup</td>\n",
       "      <td>2</td>\n",
       "      <td>108</td>\n",
       "      <td>0.02</td>\n",
       "    </tr>\n",
       "    <tr>\n",
       "      <td>33</td>\n",
       "      <td>2015-2020</td>\n",
       "      <td>Drug/Gangster</td>\n",
       "      <td>15</td>\n",
       "      <td>108</td>\n",
       "      <td>0.14</td>\n",
       "    </tr>\n",
       "    <tr>\n",
       "      <td>34</td>\n",
       "      <td>2015-2020</td>\n",
       "      <td>Emotion/Hardship</td>\n",
       "      <td>6</td>\n",
       "      <td>108</td>\n",
       "      <td>0.06</td>\n",
       "    </tr>\n",
       "    <tr>\n",
       "      <td>35</td>\n",
       "      <td>2015-2020</td>\n",
       "      <td>Hood Life</td>\n",
       "      <td>6</td>\n",
       "      <td>108</td>\n",
       "      <td>0.06</td>\n",
       "    </tr>\n",
       "    <tr>\n",
       "      <td>36</td>\n",
       "      <td>2015-2020</td>\n",
       "      <td>Love/Affection</td>\n",
       "      <td>6</td>\n",
       "      <td>108</td>\n",
       "      <td>0.06</td>\n",
       "    </tr>\n",
       "    <tr>\n",
       "      <td>37</td>\n",
       "      <td>2015-2020</td>\n",
       "      <td>Money</td>\n",
       "      <td>43</td>\n",
       "      <td>108</td>\n",
       "      <td>0.40</td>\n",
       "    </tr>\n",
       "    <tr>\n",
       "      <td>38</td>\n",
       "      <td>2015-2020</td>\n",
       "      <td>Rap Skills</td>\n",
       "      <td>9</td>\n",
       "      <td>108</td>\n",
       "      <td>0.08</td>\n",
       "    </tr>\n",
       "    <tr>\n",
       "      <td>39</td>\n",
       "      <td>2015-2020</td>\n",
       "      <td>Sex</td>\n",
       "      <td>17</td>\n",
       "      <td>108</td>\n",
       "      <td>0.16</td>\n",
       "    </tr>\n",
       "    <tr>\n",
       "      <td>40</td>\n",
       "      <td>2015-2020</td>\n",
       "      <td>Unsure</td>\n",
       "      <td>4</td>\n",
       "      <td>108</td>\n",
       "      <td>0.04</td>\n",
       "    </tr>\n",
       "  </tbody>\n",
       "</table>\n",
       "</div>"
      ],
      "text/plain": [
       "   year_range       topic_names  Song  Total  ratio\n",
       "0   1995-2000       Club/Hookup     1     14   0.07\n",
       "1   1995-2000     Drug/Gangster     3     14   0.21\n",
       "2   1995-2000         Hood Life     1     14   0.07\n",
       "3   1995-2000             Money     3     14   0.21\n",
       "4   1995-2000        Rap Skills     6     14   0.43\n",
       "5   2000-2005       Club/Hookup     2     54   0.04\n",
       "6   2000-2005     Drug/Gangster     9     54   0.17\n",
       "7   2000-2005  Emotion/Hardship     1     54   0.02\n",
       "8   2000-2005         Hood Life     4     54   0.07\n",
       "9   2000-2005    Love/Affection     8     54   0.15\n",
       "10  2000-2005             Money    16     54   0.30\n",
       "11  2000-2005        Rap Skills     9     54   0.17\n",
       "12  2000-2005               Sex     2     54   0.04\n",
       "13  2000-2005            Unsure     3     54   0.06\n",
       "14  2005-2010       Club/Hookup    11    205   0.05\n",
       "15  2005-2010     Drug/Gangster     9    205   0.04\n",
       "16  2005-2010  Emotion/Hardship     5    205   0.02\n",
       "17  2005-2010         Hood Life     9    205   0.04\n",
       "18  2005-2010    Love/Affection    21    205   0.10\n",
       "19  2005-2010             Money   107    205   0.52\n",
       "20  2005-2010        Rap Skills    20    205   0.10\n",
       "21  2005-2010               Sex    17    205   0.08\n",
       "22  2005-2010            Unsure     6    205   0.03\n",
       "23  2010-2015       Club/Hookup     6    112   0.05\n",
       "24  2010-2015     Drug/Gangster     3    112   0.03\n",
       "25  2010-2015  Emotion/Hardship     4    112   0.04\n",
       "26  2010-2015         Hood Life    10    112   0.09\n",
       "27  2010-2015    Love/Affection     6    112   0.05\n",
       "28  2010-2015             Money    46    112   0.41\n",
       "29  2010-2015        Rap Skills     5    112   0.04\n",
       "30  2010-2015               Sex    29    112   0.26\n",
       "31  2010-2015            Unsure     3    112   0.03\n",
       "32  2015-2020       Club/Hookup     2    108   0.02\n",
       "33  2015-2020     Drug/Gangster    15    108   0.14\n",
       "34  2015-2020  Emotion/Hardship     6    108   0.06\n",
       "35  2015-2020         Hood Life     6    108   0.06\n",
       "36  2015-2020    Love/Affection     6    108   0.06\n",
       "37  2015-2020             Money    43    108   0.40\n",
       "38  2015-2020        Rap Skills     9    108   0.08\n",
       "39  2015-2020               Sex    17    108   0.16\n",
       "40  2015-2020            Unsure     4    108   0.04"
      ]
     },
     "execution_count": 1058,
     "metadata": {},
     "output_type": "execute_result"
    }
   ],
   "source": [
    "topic_change_lw = lw_df.groupby(['year_range','topic_names'], as_index = False).Song.count()\n",
    "total_lw = topic_change_lw.groupby('year_range', as_index = False).Song.sum().rename(columns = {'Song': 'Total'})\n",
    "topic_change_lw = pd.merge(topic_change_lw, total_lw, how = 'left', on = 'year_range')\n",
    "topic_change_lw['ratio'] = topic_change_lw['Song']/topic_change_lw['Total']\n",
    "topic_change_lw"
   ]
  },
  {
   "cell_type": "code",
   "execution_count": 1060,
   "metadata": {
    "ExecuteTime": {
     "end_time": "2020-02-28T04:38:03.157992Z",
     "start_time": "2020-02-28T04:38:02.772700Z"
    }
   },
   "outputs": [
    {
     "data": {
      "image/png": "[encoded data removed]",
      "text/plain": [
       "<Figure size 720x576 with 1 Axes>"
      ]
     },
     "metadata": {},
     "output_type": "display_data"
    }
   ],
   "source": [
    "dic = {0: 'Money',2: 'Hood Life', 4: 'Sex'}\n",
    "\n",
    "plt.figure(figsize = [10, 8]) \n",
    "plt.xticks(rotation = 45, fontsize = 13)\n",
    "plt.yticks(fontsize = 13)\n",
    "plt.title('Lil Waynes Lyrics Over Time', fontsize = 15)\n",
    "\n",
    "for key, value in dic.items():\n",
    "    df = topic_change_lw[topic_change_lw.topic_names == value]\n",
    "    plt.plot(df.year_range, df.ratio, label = value)\n",
    "    plt.legend(fontsize = 13)\n"
   ]
  },
  {
   "cell_type": "markdown",
   "metadata": {
    "ExecuteTime": {
     "end_time": "2020-02-28T03:06:46.387424Z",
     "start_time": "2020-02-28T03:06:46.382592Z"
    }
   },
   "source": [
    "#### Kanye West Lyrics"
   ]
  },
  {
   "cell_type": "code",
   "execution_count": 1061,
   "metadata": {
    "ExecuteTime": {
     "end_time": "2020-02-28T04:38:03.212321Z",
     "start_time": "2020-02-28T04:38:03.163667Z"
    }
   },
   "outputs": [
    {
     "data": {
      "text/html": [
       "<div>\n",
       "<style scoped>\n",
       "    .dataframe tbody tr th:only-of-type {\n",
       "        vertical-align: middle;\n",
       "    }\n",
       "\n",
       "    .dataframe tbody tr th {\n",
       "        vertical-align: top;\n",
       "    }\n",
       "\n",
       "    .dataframe thead th {\n",
       "        text-align: right;\n",
       "    }\n",
       "</style>\n",
       "<table border=\"1\" class=\"dataframe\">\n",
       "  <thead>\n",
       "    <tr style=\"text-align: right;\">\n",
       "      <th></th>\n",
       "      <th>year_range</th>\n",
       "      <th>topic_names</th>\n",
       "      <th>Song</th>\n",
       "      <th>Total</th>\n",
       "      <th>ratio</th>\n",
       "    </tr>\n",
       "  </thead>\n",
       "  <tbody>\n",
       "    <tr>\n",
       "      <td>0</td>\n",
       "      <td>2000-2005</td>\n",
       "      <td>Club/Hookup</td>\n",
       "      <td>3</td>\n",
       "      <td>12</td>\n",
       "      <td>0.25</td>\n",
       "    </tr>\n",
       "    <tr>\n",
       "      <td>1</td>\n",
       "      <td>2000-2005</td>\n",
       "      <td>Emotion/Hardship</td>\n",
       "      <td>1</td>\n",
       "      <td>12</td>\n",
       "      <td>0.08</td>\n",
       "    </tr>\n",
       "    <tr>\n",
       "      <td>2</td>\n",
       "      <td>2000-2005</td>\n",
       "      <td>Hood Life</td>\n",
       "      <td>2</td>\n",
       "      <td>12</td>\n",
       "      <td>0.17</td>\n",
       "    </tr>\n",
       "    <tr>\n",
       "      <td>3</td>\n",
       "      <td>2000-2005</td>\n",
       "      <td>Money</td>\n",
       "      <td>3</td>\n",
       "      <td>12</td>\n",
       "      <td>0.25</td>\n",
       "    </tr>\n",
       "    <tr>\n",
       "      <td>4</td>\n",
       "      <td>2000-2005</td>\n",
       "      <td>Rap Skills</td>\n",
       "      <td>2</td>\n",
       "      <td>12</td>\n",
       "      <td>0.17</td>\n",
       "    </tr>\n",
       "    <tr>\n",
       "      <td>5</td>\n",
       "      <td>2000-2005</td>\n",
       "      <td>Unsure</td>\n",
       "      <td>1</td>\n",
       "      <td>12</td>\n",
       "      <td>0.08</td>\n",
       "    </tr>\n",
       "    <tr>\n",
       "      <td>6</td>\n",
       "      <td>2005-2010</td>\n",
       "      <td>Club/Hookup</td>\n",
       "      <td>3</td>\n",
       "      <td>34</td>\n",
       "      <td>0.09</td>\n",
       "    </tr>\n",
       "    <tr>\n",
       "      <td>7</td>\n",
       "      <td>2005-2010</td>\n",
       "      <td>Drug/Gangster</td>\n",
       "      <td>2</td>\n",
       "      <td>34</td>\n",
       "      <td>0.06</td>\n",
       "    </tr>\n",
       "    <tr>\n",
       "      <td>8</td>\n",
       "      <td>2005-2010</td>\n",
       "      <td>Emotion/Hardship</td>\n",
       "      <td>2</td>\n",
       "      <td>34</td>\n",
       "      <td>0.06</td>\n",
       "    </tr>\n",
       "    <tr>\n",
       "      <td>9</td>\n",
       "      <td>2005-2010</td>\n",
       "      <td>Hood Life</td>\n",
       "      <td>9</td>\n",
       "      <td>34</td>\n",
       "      <td>0.26</td>\n",
       "    </tr>\n",
       "    <tr>\n",
       "      <td>10</td>\n",
       "      <td>2005-2010</td>\n",
       "      <td>Love/Affection</td>\n",
       "      <td>2</td>\n",
       "      <td>34</td>\n",
       "      <td>0.06</td>\n",
       "    </tr>\n",
       "    <tr>\n",
       "      <td>11</td>\n",
       "      <td>2005-2010</td>\n",
       "      <td>Money</td>\n",
       "      <td>10</td>\n",
       "      <td>34</td>\n",
       "      <td>0.29</td>\n",
       "    </tr>\n",
       "    <tr>\n",
       "      <td>12</td>\n",
       "      <td>2005-2010</td>\n",
       "      <td>Rap Skills</td>\n",
       "      <td>5</td>\n",
       "      <td>34</td>\n",
       "      <td>0.15</td>\n",
       "    </tr>\n",
       "    <tr>\n",
       "      <td>13</td>\n",
       "      <td>2005-2010</td>\n",
       "      <td>Unsure</td>\n",
       "      <td>1</td>\n",
       "      <td>34</td>\n",
       "      <td>0.03</td>\n",
       "    </tr>\n",
       "    <tr>\n",
       "      <td>14</td>\n",
       "      <td>2010-2015</td>\n",
       "      <td>Club/Hookup</td>\n",
       "      <td>3</td>\n",
       "      <td>29</td>\n",
       "      <td>0.10</td>\n",
       "    </tr>\n",
       "    <tr>\n",
       "      <td>15</td>\n",
       "      <td>2010-2015</td>\n",
       "      <td>Drug/Gangster</td>\n",
       "      <td>2</td>\n",
       "      <td>29</td>\n",
       "      <td>0.07</td>\n",
       "    </tr>\n",
       "    <tr>\n",
       "      <td>16</td>\n",
       "      <td>2010-2015</td>\n",
       "      <td>Emotion/Hardship</td>\n",
       "      <td>1</td>\n",
       "      <td>29</td>\n",
       "      <td>0.03</td>\n",
       "    </tr>\n",
       "    <tr>\n",
       "      <td>17</td>\n",
       "      <td>2010-2015</td>\n",
       "      <td>Hood Life</td>\n",
       "      <td>5</td>\n",
       "      <td>29</td>\n",
       "      <td>0.17</td>\n",
       "    </tr>\n",
       "    <tr>\n",
       "      <td>18</td>\n",
       "      <td>2010-2015</td>\n",
       "      <td>Love/Affection</td>\n",
       "      <td>3</td>\n",
       "      <td>29</td>\n",
       "      <td>0.10</td>\n",
       "    </tr>\n",
       "    <tr>\n",
       "      <td>19</td>\n",
       "      <td>2010-2015</td>\n",
       "      <td>Money</td>\n",
       "      <td>6</td>\n",
       "      <td>29</td>\n",
       "      <td>0.21</td>\n",
       "    </tr>\n",
       "    <tr>\n",
       "      <td>20</td>\n",
       "      <td>2010-2015</td>\n",
       "      <td>Rap Skills</td>\n",
       "      <td>7</td>\n",
       "      <td>29</td>\n",
       "      <td>0.24</td>\n",
       "    </tr>\n",
       "    <tr>\n",
       "      <td>21</td>\n",
       "      <td>2010-2015</td>\n",
       "      <td>Sex</td>\n",
       "      <td>2</td>\n",
       "      <td>29</td>\n",
       "      <td>0.07</td>\n",
       "    </tr>\n",
       "    <tr>\n",
       "      <td>22</td>\n",
       "      <td>2015-2020</td>\n",
       "      <td>Club/Hookup</td>\n",
       "      <td>2</td>\n",
       "      <td>23</td>\n",
       "      <td>0.09</td>\n",
       "    </tr>\n",
       "    <tr>\n",
       "      <td>23</td>\n",
       "      <td>2015-2020</td>\n",
       "      <td>Drug/Gangster</td>\n",
       "      <td>1</td>\n",
       "      <td>23</td>\n",
       "      <td>0.04</td>\n",
       "    </tr>\n",
       "    <tr>\n",
       "      <td>24</td>\n",
       "      <td>2015-2020</td>\n",
       "      <td>Emotion/Hardship</td>\n",
       "      <td>6</td>\n",
       "      <td>23</td>\n",
       "      <td>0.26</td>\n",
       "    </tr>\n",
       "    <tr>\n",
       "      <td>25</td>\n",
       "      <td>2015-2020</td>\n",
       "      <td>Hood Life</td>\n",
       "      <td>3</td>\n",
       "      <td>23</td>\n",
       "      <td>0.13</td>\n",
       "    </tr>\n",
       "    <tr>\n",
       "      <td>26</td>\n",
       "      <td>2015-2020</td>\n",
       "      <td>Love/Affection</td>\n",
       "      <td>1</td>\n",
       "      <td>23</td>\n",
       "      <td>0.04</td>\n",
       "    </tr>\n",
       "    <tr>\n",
       "      <td>27</td>\n",
       "      <td>2015-2020</td>\n",
       "      <td>Money</td>\n",
       "      <td>6</td>\n",
       "      <td>23</td>\n",
       "      <td>0.26</td>\n",
       "    </tr>\n",
       "    <tr>\n",
       "      <td>28</td>\n",
       "      <td>2015-2020</td>\n",
       "      <td>Rap Skills</td>\n",
       "      <td>1</td>\n",
       "      <td>23</td>\n",
       "      <td>0.04</td>\n",
       "    </tr>\n",
       "    <tr>\n",
       "      <td>29</td>\n",
       "      <td>2015-2020</td>\n",
       "      <td>Sex</td>\n",
       "      <td>3</td>\n",
       "      <td>23</td>\n",
       "      <td>0.13</td>\n",
       "    </tr>\n",
       "  </tbody>\n",
       "</table>\n",
       "</div>"
      ],
      "text/plain": [
       "   year_range       topic_names  Song  Total  ratio\n",
       "0   2000-2005       Club/Hookup     3     12   0.25\n",
       "1   2000-2005  Emotion/Hardship     1     12   0.08\n",
       "2   2000-2005         Hood Life     2     12   0.17\n",
       "3   2000-2005             Money     3     12   0.25\n",
       "4   2000-2005        Rap Skills     2     12   0.17\n",
       "5   2000-2005            Unsure     1     12   0.08\n",
       "6   2005-2010       Club/Hookup     3     34   0.09\n",
       "7   2005-2010     Drug/Gangster     2     34   0.06\n",
       "8   2005-2010  Emotion/Hardship     2     34   0.06\n",
       "9   2005-2010         Hood Life     9     34   0.26\n",
       "10  2005-2010    Love/Affection     2     34   0.06\n",
       "11  2005-2010             Money    10     34   0.29\n",
       "12  2005-2010        Rap Skills     5     34   0.15\n",
       "13  2005-2010            Unsure     1     34   0.03\n",
       "14  2010-2015       Club/Hookup     3     29   0.10\n",
       "15  2010-2015     Drug/Gangster     2     29   0.07\n",
       "16  2010-2015  Emotion/Hardship     1     29   0.03\n",
       "17  2010-2015         Hood Life     5     29   0.17\n",
       "18  2010-2015    Love/Affection     3     29   0.10\n",
       "19  2010-2015             Money     6     29   0.21\n",
       "20  2010-2015        Rap Skills     7     29   0.24\n",
       "21  2010-2015               Sex     2     29   0.07\n",
       "22  2015-2020       Club/Hookup     2     23   0.09\n",
       "23  2015-2020     Drug/Gangster     1     23   0.04\n",
       "24  2015-2020  Emotion/Hardship     6     23   0.26\n",
       "25  2015-2020         Hood Life     3     23   0.13\n",
       "26  2015-2020    Love/Affection     1     23   0.04\n",
       "27  2015-2020             Money     6     23   0.26\n",
       "28  2015-2020        Rap Skills     1     23   0.04\n",
       "29  2015-2020               Sex     3     23   0.13"
      ]
     },
     "execution_count": 1061,
     "metadata": {},
     "output_type": "execute_result"
    }
   ],
   "source": [
    "kw_df = rap_df[rap_df.Singer == 'Kanye West']\n",
    "topic_change_kw = kw_df.groupby(['year_range','topic_names'], as_index = False).Song.count()\n",
    "total_kw = topic_change_kw.groupby('year_range', as_index = False).Song.sum().rename(columns = {'Song': 'Total'})\n",
    "topic_change_kw = pd.merge(topic_change_kw, total_kw, how = 'left', on = 'year_range')\n",
    "topic_change_kw['ratio'] = topic_change_kw['Song']/topic_change_kw['Total']\n",
    "topic_change_kw"
   ]
  },
  {
   "cell_type": "code",
   "execution_count": 1062,
   "metadata": {
    "ExecuteTime": {
     "end_time": "2020-02-28T04:38:03.647025Z",
     "start_time": "2020-02-28T04:38:03.219620Z"
    }
   },
   "outputs": [
    {
     "data": {
      "image/png": "[encoded data removed]",
      "text/plain": [
       "<Figure size 720x576 with 1 Axes>"
      ]
     },
     "metadata": {},
     "output_type": "display_data"
    }
   ],
   "source": [
    "dic = {0: 'Money',2: 'Hood Life', 7: 'Emotion/Hardship', 8: 'Club/Hookup'}\n",
    "\n",
    "plt.figure(figsize = [10, 8]) \n",
    "plt.xticks(rotation = 45, fontsize = 13)\n",
    "plt.yticks(fontsize = 13)\n",
    "plt.title('Kanye West Lyrics Over Time', fontsize = 15)\n",
    "\n",
    "for key, value in dic.items():\n",
    "    df = topic_change_kw[topic_change_kw.topic_names == value]\n",
    "    plt.plot(df.year_range, df.ratio, label = value)\n",
    "    plt.legend(fontsize = 13)"
   ]
  },
  {
   "cell_type": "markdown",
   "metadata": {
    "ExecuteTime": {
     "end_time": "2020-04-16T07:17:58.482744Z",
     "start_time": "2020-04-16T07:17:58.439084Z"
    }
   },
   "source": [
    "## Other useful EDA"
   ]
  },
  {
   "cell_type": "markdown",
   "metadata": {},
   "source": [
    "### Topic Distribution"
   ]
  },
  {
   "cell_type": "code",
   "execution_count": 1155,
   "metadata": {
    "ExecuteTime": {
     "end_time": "2020-02-28T14:23:41.911290Z",
     "start_time": "2020-02-28T14:23:41.258387Z"
    }
   },
   "outputs": [
    {
     "data": {
      "text/plain": [
       "<matplotlib.axes._subplots.AxesSubplot at 0x1a94796050>"
      ]
     },
     "execution_count": 1155,
     "metadata": {},
     "output_type": "execute_result"
    },
    {
     "data": {
      "image/png": "[encoded data removed]",
      "text/plain": [
       "<Figure size 1152x576 with 1 Axes>"
      ]
     },
     "metadata": {},
     "output_type": "display_data"
    }
   ],
   "source": [
    "plt.figure(figsize = [16,8])\n",
    "sns.set(font_scale=1.6)\n",
    "plt.title('Topic Distribution', fontsize =20)\n",
    "\n",
    "rap_df[~(rap_df.topic_names == 'Unsure')].topic_names.value_counts().plot(kind='bar')"
   ]
  },
  {
   "cell_type": "markdown",
   "metadata": {
    "ExecuteTime": {
     "end_time": "2020-04-16T07:20:25.115785Z",
     "start_time": "2020-04-16T07:20:25.110898Z"
    }
   },
   "source": [
    "### Brands and celebrities appearance in lyrics"
   ]
  },
  {
   "cell_type": "code",
   "execution_count": 1065,
   "metadata": {
    "ExecuteTime": {
     "end_time": "2020-02-28T04:38:19.365710Z",
     "start_time": "2020-02-28T04:38:04.092333Z"
    }
   },
   "outputs": [],
   "source": [
    "alphanumeric = lambda x: re.sub('\\w*\\d\\w*', ' ', x)\n",
    "punc_lower = lambda x: re.sub('[%s]' % re.escape(string.punctuation), ' ', x.lower())\n",
    " \n",
    "hh_df['lyrics_nostem'] = hh_df['lyrics_nostem'].map(alphanumeric).map(punc_lower)                               "
   ]
  },
  {
   "cell_type": "code",
   "execution_count": 1072,
   "metadata": {
    "ExecuteTime": {
     "end_time": "2020-02-28T04:39:31.984346Z",
     "start_time": "2020-02-28T04:39:31.943925Z"
    }
   },
   "outputs": [],
   "source": [
    "hh_df = hh_df.drop(hh_df[hh_df['Year'] == '2020'].index)"
   ]
  },
  {
   "cell_type": "code",
   "execution_count": 1104,
   "metadata": {
    "ExecuteTime": {
     "end_time": "2020-02-28T05:02:31.440159Z",
     "start_time": "2020-02-28T05:02:31.316255Z"
    }
   },
   "outputs": [],
   "source": [
    "hh_df = hh_df.drop(hh_df[hh_df['Year'] <'1990'].index)"
   ]
  },
  {
   "cell_type": "code",
   "execution_count": 1115,
   "metadata": {
    "ExecuteTime": {
     "end_time": "2020-02-28T05:07:00.413192Z",
     "start_time": "2020-02-28T05:07:00.402535Z"
    }
   },
   "outputs": [],
   "source": [
    "def vocab(word):\n",
    "    hh_df[word] = hh_df['lyrics_nostem'].str.contains(word)\n",
    "    hh_df[word] = hh_df[word].apply(lambda x: 1 if x == True else 0)\n",
    "    df = hh_df.groupby('Year', as_index = False)[word].sum()\n",
    "    return plt.plot(df['Year'], df[word], label = word)"
   ]
  },
  {
   "cell_type": "code",
   "execution_count": 1166,
   "metadata": {
    "ExecuteTime": {
     "end_time": "2020-02-28T16:36:04.069691Z",
     "start_time": "2020-02-28T16:36:02.657027Z"
    }
   },
   "outputs": [
    {
     "name": "stderr",
     "output_type": "stream",
     "text": [
      "No handles with labels found to put in legend.\n"
     ]
    },
    {
     "data": {
      "text/plain": [
       "[<matplotlib.lines.Line2D at 0x1a6ea9dc50>]"
      ]
     },
     "execution_count": 1166,
     "metadata": {},
     "output_type": "execute_result"
    },
    {
     "data": {
      "image/png": "[encoded data removed]",
      "text/plain": [
       "<Figure size 792x576 with 1 Axes>"
      ]
     },
     "metadata": {},
     "output_type": "display_data"
    }
   ],
   "source": [
    "plt.figure(figsize = [11,8])\n",
    "plt.xticks(rotation = 90)\n",
    "plt.legend()\n",
    "plt. title('Nike vs Adidas')\n",
    "\n",
    "vocab('nike')\n",
    "vocab('adidas')"
   ]
  },
  {
   "cell_type": "code",
   "execution_count": 1169,
   "metadata": {
    "ExecuteTime": {
     "end_time": "2020-02-28T16:39:37.529713Z",
     "start_time": "2020-02-28T16:39:36.420813Z"
    }
   },
   "outputs": [
    {
     "data": {
      "text/plain": [
       "[<matplotlib.lines.Line2D at 0x1a90be2fd0>]"
      ]
     },
     "execution_count": 1169,
     "metadata": {},
     "output_type": "execute_result"
    },
    {
     "data": {
      "image/png": "[encoded data removed]",
      "text/plain": [
       "<Figure size 792x576 with 1 Axes>"
      ]
     },
     "metadata": {},
     "output_type": "display_data"
    }
   ],
   "source": [
    "plt.figure(figsize = [11,8])\n",
    "plt.xticks(rotation = 90)\n",
    "plt. title('Kim Kardashian vs Paris Hilton')\n",
    "\n",
    "vocab('kardashian')\n",
    "vocab('paris hilton')"
   ]
  },
  {
   "cell_type": "code",
   "execution_count": 1168,
   "metadata": {
    "ExecuteTime": {
     "end_time": "2020-02-28T16:37:37.734127Z",
     "start_time": "2020-02-28T16:37:36.373378Z"
    }
   },
   "outputs": [
    {
     "data": {
      "text/plain": [
       "[<matplotlib.lines.Line2D at 0x1a89155f90>]"
      ]
     },
     "execution_count": 1168,
     "metadata": {},
     "output_type": "execute_result"
    },
    {
     "data": {
      "image/png": "[encoded data removed]",
      "text/plain": [
       "<Figure size 792x576 with 1 Axes>"
      ]
     },
     "metadata": {},
     "output_type": "display_data"
    }
   ],
   "source": [
    "plt.figure(figsize = [11,8])\n",
    "plt.xticks(rotation = 90)\n",
    "plt. title('Gucci vs Rolex vs Louis Vuitton')\n",
    "\n",
    "vocab('gucci')\n",
    "vocab('rolex')\n",
    "vocab('vuitton')"
   ]
  },
  {
   "cell_type": "code",
   "execution_count": 1171,
   "metadata": {
    "ExecuteTime": {
     "end_time": "2020-02-28T16:42:12.637672Z",
     "start_time": "2020-02-28T16:42:11.471427Z"
    }
   },
   "outputs": [
    {
     "data": {
      "text/plain": [
       "[<matplotlib.lines.Line2D at 0x1a910b5790>]"
      ]
     },
     "execution_count": 1171,
     "metadata": {},
     "output_type": "execute_result"
    },
    {
     "data": {
      "image/png": "[encoded data removed]",
      "text/plain": [
       "<Figure size 792x576 with 1 Axes>"
      ]
     },
     "metadata": {},
     "output_type": "display_data"
    }
   ],
   "source": [
    "plt.figure(figsize = [11,8])\n",
    "plt.xticks(rotation = 90)\n",
    "plt. title('Barack Obama vs Donald Trump')\n",
    "\n",
    "#vocab('bill clinton')\n",
    "vocab('obama')\n",
    "vocab('donald trump')"
   ]
  },
  {
   "cell_type": "code",
   "execution_count": 1014,
   "metadata": {
    "ExecuteTime": {
     "end_time": "2020-02-28T04:19:01.308190Z",
     "start_time": "2020-02-28T04:19:01.258215Z"
    }
   },
   "outputs": [
    {
     "data": {
      "text/html": [
       "<div>\n",
       "<style scoped>\n",
       "    .dataframe tbody tr th:only-of-type {\n",
       "        vertical-align: middle;\n",
       "    }\n",
       "\n",
       "    .dataframe tbody tr th {\n",
       "        vertical-align: top;\n",
       "    }\n",
       "\n",
       "    .dataframe thead th {\n",
       "        text-align: right;\n",
       "    }\n",
       "</style>\n",
       "<table border=\"1\" class=\"dataframe\">\n",
       "  <thead>\n",
       "    <tr style=\"text-align: right;\">\n",
       "      <th></th>\n",
       "      <th>nike</th>\n",
       "      <th>Year</th>\n",
       "      <th>Song</th>\n",
       "    </tr>\n",
       "  </thead>\n",
       "  <tbody>\n",
       "    <tr>\n",
       "      <td>0</td>\n",
       "      <td>False</td>\n",
       "      <td>1956</td>\n",
       "      <td>2</td>\n",
       "    </tr>\n",
       "    <tr>\n",
       "      <td>1</td>\n",
       "      <td>False</td>\n",
       "      <td>1967</td>\n",
       "      <td>8</td>\n",
       "    </tr>\n",
       "    <tr>\n",
       "      <td>2</td>\n",
       "      <td>False</td>\n",
       "      <td>1968</td>\n",
       "      <td>7</td>\n",
       "    </tr>\n",
       "    <tr>\n",
       "      <td>3</td>\n",
       "      <td>False</td>\n",
       "      <td>1969</td>\n",
       "      <td>5</td>\n",
       "    </tr>\n",
       "    <tr>\n",
       "      <td>4</td>\n",
       "      <td>False</td>\n",
       "      <td>1971</td>\n",
       "      <td>4</td>\n",
       "    </tr>\n",
       "    <tr>\n",
       "      <td>...</td>\n",
       "      <td>...</td>\n",
       "      <td>...</td>\n",
       "      <td>...</td>\n",
       "    </tr>\n",
       "    <tr>\n",
       "      <td>80</td>\n",
       "      <td>True</td>\n",
       "      <td>2015</td>\n",
       "      <td>48</td>\n",
       "    </tr>\n",
       "    <tr>\n",
       "      <td>81</td>\n",
       "      <td>True</td>\n",
       "      <td>2016</td>\n",
       "      <td>45</td>\n",
       "    </tr>\n",
       "    <tr>\n",
       "      <td>82</td>\n",
       "      <td>True</td>\n",
       "      <td>2017</td>\n",
       "      <td>31</td>\n",
       "    </tr>\n",
       "    <tr>\n",
       "      <td>83</td>\n",
       "      <td>True</td>\n",
       "      <td>2018</td>\n",
       "      <td>50</td>\n",
       "    </tr>\n",
       "    <tr>\n",
       "      <td>84</td>\n",
       "      <td>True</td>\n",
       "      <td>2019</td>\n",
       "      <td>36</td>\n",
       "    </tr>\n",
       "  </tbody>\n",
       "</table>\n",
       "<p>85 rows × 3 columns</p>\n",
       "</div>"
      ],
      "text/plain": [
       "     nike  Year  Song\n",
       "0   False  1956     2\n",
       "1   False  1967     8\n",
       "2   False  1968     7\n",
       "3   False  1969     5\n",
       "4   False  1971     4\n",
       "..    ...   ...   ...\n",
       "80   True  2015    48\n",
       "81   True  2016    45\n",
       "82   True  2017    31\n",
       "83   True  2018    50\n",
       "84   True  2019    36\n",
       "\n",
       "[85 rows x 3 columns]"
      ]
     },
     "execution_count": 1014,
     "metadata": {},
     "output_type": "execute_result"
    }
   ],
   "source": [
    "hh_df.groupby(['nike','Year'],as_index = False).agg({\"Song\":\"count\"})"
   ]
  },
  {
   "cell_type": "markdown",
   "metadata": {},
   "source": [
    "### Changes in word counts over time"
   ]
  },
  {
   "cell_type": "code",
   "execution_count": 664,
   "metadata": {
    "ExecuteTime": {
     "end_time": "2020-02-26T22:43:11.716150Z",
     "start_time": "2020-02-26T22:43:09.958295Z"
    }
   },
   "outputs": [],
   "source": [
    "# remove non-lyrics related\n",
    "\n",
    "df3['Lyrics'] = df3.Lyrics.apply(lambda x: x.replace('\\n', ' '))\n",
    "df3['Lyrics'] = df3.Lyrics.apply(lambda x: x.replace('[', ''))\n",
    "df3['Lyrics'] = df3.Lyrics.apply(lambda x: x.replace(']', ''))\n",
    "df3['Lyrics'] = df3.Lyrics.apply(lambda x: x.replace('hook', ''))\n",
    "df3['Lyrics'] = df3.Lyrics.apply(lambda x: x.replace('verse', ''))\n",
    "df3['Lyrics'] = df3.Lyrics.apply(lambda x: x.replace('intro', ''))"
   ]
  },
  {
   "cell_type": "code",
   "execution_count": 667,
   "metadata": {
    "ExecuteTime": {
     "end_time": "2020-02-26T22:48:31.697335Z",
     "start_time": "2020-02-26T22:47:27.800800Z"
    }
   },
   "outputs": [],
   "source": [
    "# remove alphanumerics and punctuations\n",
    "\n",
    "import re\n",
    "import string\n",
    "\n",
    "alphanumeric = lambda x: re.sub('\\w*\\d\\w*', ' ', x)\n",
    "punc_lower = lambda x: re.sub('[%s]' % re.escape(string.punctuation), ' ', x.lower())\n",
    "\n",
    "df3['Lyrics'] = df3['Lyrics'].map(alphanumeric).map(punc_lower)      "
   ]
  },
  {
   "cell_type": "code",
   "execution_count": 668,
   "metadata": {
    "ExecuteTime": {
     "end_time": "2020-02-26T22:49:42.556175Z",
     "start_time": "2020-02-26T22:49:42.315789Z"
    }
   },
   "outputs": [],
   "source": [
    "df3 = df3[df3['Genre'].str.contains('Rap')]"
   ]
  },
  {
   "cell_type": "code",
   "execution_count": null,
   "metadata": {},
   "outputs": [],
   "source": [
    "# remove raps with foreign languages\n",
    "\n",
    "df3 = df3[~(df3['Singer'].isin(rappers))]"
   ]
  },
  {
   "cell_type": "code",
   "execution_count": 674,
   "metadata": {
    "ExecuteTime": {
     "end_time": "2020-02-26T22:52:21.686432Z",
     "start_time": "2020-02-26T22:52:21.658371Z"
    }
   },
   "outputs": [
    {
     "data": {
      "text/html": [
       "<div>\n",
       "<style scoped>\n",
       "    .dataframe tbody tr th:only-of-type {\n",
       "        vertical-align: middle;\n",
       "    }\n",
       "\n",
       "    .dataframe tbody tr th {\n",
       "        vertical-align: top;\n",
       "    }\n",
       "\n",
       "    .dataframe thead th {\n",
       "        text-align: right;\n",
       "    }\n",
       "</style>\n",
       "<table border=\"1\" class=\"dataframe\">\n",
       "  <thead>\n",
       "    <tr style=\"text-align: right;\">\n",
       "      <th></th>\n",
       "      <th>Singer</th>\n",
       "      <th>Album</th>\n",
       "      <th>Song</th>\n",
       "      <th>Date</th>\n",
       "      <th>Featuring</th>\n",
       "      <th>Genre</th>\n",
       "      <th>Lyrics</th>\n",
       "      <th>Tags</th>\n",
       "      <th>Producers</th>\n",
       "      <th>Writers</th>\n",
       "    </tr>\n",
       "  </thead>\n",
       "  <tbody>\n",
       "    <tr>\n",
       "      <td>0</td>\n",
       "      <td>$UICIDEBOY$</td>\n",
       "      <td>7th or St. Tammany</td>\n",
       "      <td>40 Oz. &amp; Sober</td>\n",
       "      <td>2015-04-02</td>\n",
       "      <td>[]</td>\n",
       "      <td>['Alternative/Indie', 'Hip-Hop/Rap']</td>\n",
       "      <td>gangsta pat killer  killer  killer what th...</td>\n",
       "      <td>['Alternative', 'Rap']</td>\n",
       "      <td>['Jck Ruby']</td>\n",
       "      <td>['Scott Arceneaux Jr.', 'Aristos Petrou']</td>\n",
       "    </tr>\n",
       "    <tr>\n",
       "      <td>1</td>\n",
       "      <td>$UICIDEBOY$</td>\n",
       "      <td>7th or St. Tammany</td>\n",
       "      <td>7th or St. Tammany</td>\n",
       "      <td>2015-04-02</td>\n",
       "      <td>[]</td>\n",
       "      <td>['Hip-Hop/Rap']</td>\n",
       "      <td>uh     yah  uhhhh       motherfucker west ba...</td>\n",
       "      <td>['Rap']</td>\n",
       "      <td>['Budd Dwyer']</td>\n",
       "      <td>['Scott Arceneaux Jr.', 'Aristos Petrou', 'Mas...</td>\n",
       "    </tr>\n",
       "    <tr>\n",
       "      <td>2</td>\n",
       "      <td>$UICIDEBOY$</td>\n",
       "      <td>7th or St. Tammany</td>\n",
       "      <td>Dead Batteries</td>\n",
       "      <td>2015-03-19</td>\n",
       "      <td>[]</td>\n",
       "      <td>['Hip-Hop/Rap']</td>\n",
       "      <td>produced by budd dwyer    frayser boy hit th...</td>\n",
       "      <td>['Rap']</td>\n",
       "      <td>['Budd Dwyer']</td>\n",
       "      <td>['Scott Arceneaux Jr.', 'Aristos Petrou']</td>\n",
       "    </tr>\n",
       "    <tr>\n",
       "      <td>3</td>\n",
       "      <td>$UICIDEBOY$</td>\n",
       "      <td>7th or St. Tammany</td>\n",
       "      <td>Drugs/Hoes/Money/Etc.</td>\n",
       "      <td>2015-04-02</td>\n",
       "      <td>[]</td>\n",
       "      <td>['Hip-Hop/Rap']</td>\n",
       "      <td>yung  now counting sheep until i m sound...</td>\n",
       "      <td>['Rap']</td>\n",
       "      <td>['Budd Dwyer']</td>\n",
       "      <td>['Scott Arceneaux Jr.', 'Aristos Petrou']</td>\n",
       "    </tr>\n",
       "    <tr>\n",
       "      <td>4</td>\n",
       "      <td>$UICIDEBOY$</td>\n",
       "      <td>7th or St. Tammany</td>\n",
       "      <td>I’ll Pay for It (If I Want It)</td>\n",
       "      <td>2015-04-02</td>\n",
       "      <td>[]</td>\n",
       "      <td>['Hip-Hop/Rap']</td>\n",
       "      <td>ruby da cherry fucking ruby got a blunt ...</td>\n",
       "      <td>['Rap']</td>\n",
       "      <td>['Budd Dwyer']</td>\n",
       "      <td>['Scott Arceneaux Jr.', 'Aristos Petrou']</td>\n",
       "    </tr>\n",
       "    <tr>\n",
       "      <td>...</td>\n",
       "      <td>...</td>\n",
       "      <td>...</td>\n",
       "      <td>...</td>\n",
       "      <td>...</td>\n",
       "      <td>...</td>\n",
       "      <td>...</td>\n",
       "      <td>...</td>\n",
       "      <td>...</td>\n",
       "      <td>...</td>\n",
       "      <td>...</td>\n",
       "    </tr>\n",
       "    <tr>\n",
       "      <td>246894</td>\n",
       "      <td>will.i.am</td>\n",
       "      <td>NaN</td>\n",
       "      <td>Samurai Jack - Theme Song</td>\n",
       "      <td>NaN</td>\n",
       "      <td>['Mako Iwamatsu']</td>\n",
       "      <td>['Hip-Hop/Rap']</td>\n",
       "      <td>aku long ago in a distant land  i  aku  th...</td>\n",
       "      <td>['Rap']</td>\n",
       "      <td>[]</td>\n",
       "      <td>['will.i.am']</td>\n",
       "    </tr>\n",
       "    <tr>\n",
       "      <td>246899</td>\n",
       "      <td>will.i.am</td>\n",
       "      <td>NaN</td>\n",
       "      <td>T.H.E. (The Hardest Ever)</td>\n",
       "      <td>2011-11-20</td>\n",
       "      <td>['Jennifer Lopez', 'Mick Jagger']</td>\n",
       "      <td>['Pop', 'Hip-Hop/Rap']</td>\n",
       "      <td>chorus  jennifer lopez   will i am you can g...</td>\n",
       "      <td>['Electronic', 'Pop', 'Rap']</td>\n",
       "      <td>['will.i.am', 'Dallas Austin', 'Audiobot']</td>\n",
       "      <td>['Kenneth Oliver', 'Tanya Lacey', 'will.i.am']</td>\n",
       "    </tr>\n",
       "    <tr>\n",
       "      <td>246907</td>\n",
       "      <td>will.i.am</td>\n",
       "      <td>NaN</td>\n",
       "      <td>Will.i.am</td>\n",
       "      <td>2017-02-23</td>\n",
       "      <td>[]</td>\n",
       "      <td>['Hip-Hop/Rap']</td>\n",
       "      <td>niko   told y’all niggas to stand down  sh...</td>\n",
       "      <td>['Rap']</td>\n",
       "      <td>[]</td>\n",
       "      <td>['will.i.am']</td>\n",
       "    </tr>\n",
       "    <tr>\n",
       "      <td>246908</td>\n",
       "      <td>will.i.am</td>\n",
       "      <td>NaN</td>\n",
       "      <td>Yes We Can</td>\n",
       "      <td>2008-02-02</td>\n",
       "      <td>['Barack Obama']</td>\n",
       "      <td>['Hip-Hop/Rap']</td>\n",
       "      <td>all obama lyrics are sampled from a campai...</td>\n",
       "      <td>['Rap']</td>\n",
       "      <td>['will.i.am']</td>\n",
       "      <td>['will.i.am']</td>\n",
       "    </tr>\n",
       "    <tr>\n",
       "      <td>246909</td>\n",
       "      <td>will.i.am</td>\n",
       "      <td>NaN</td>\n",
       "      <td>You And Me</td>\n",
       "      <td>NaN</td>\n",
       "      <td>['Justin Bieber']</td>\n",
       "      <td>['Pop', 'Hip-Hop/Rap']</td>\n",
       "      <td>will i am   justin bieber that twitter lov...</td>\n",
       "      <td>['Trap', 'Electronic', 'Pop', 'Rap']</td>\n",
       "      <td>['will.i.am']</td>\n",
       "      <td>[]</td>\n",
       "    </tr>\n",
       "  </tbody>\n",
       "</table>\n",
       "<p>61204 rows × 10 columns</p>\n",
       "</div>"
      ],
      "text/plain": [
       "             Singer               Album                            Song  \\\n",
       "0       $UICIDEBOY$  7th or St. Tammany                  40 Oz. & Sober   \n",
       "1       $UICIDEBOY$  7th or St. Tammany              7th or St. Tammany   \n",
       "2       $UICIDEBOY$  7th or St. Tammany                  Dead Batteries   \n",
       "3       $UICIDEBOY$  7th or St. Tammany           Drugs/Hoes/Money/Etc.   \n",
       "4       $UICIDEBOY$  7th or St. Tammany  I’ll Pay for It (If I Want It)   \n",
       "...             ...                 ...                             ...   \n",
       "246894    will.i.am                 NaN       Samurai Jack - Theme Song   \n",
       "246899    will.i.am                 NaN       T.H.E. (The Hardest Ever)   \n",
       "246907    will.i.am                 NaN                       Will.i.am   \n",
       "246908    will.i.am                 NaN                      Yes We Can   \n",
       "246909    will.i.am                 NaN                      You And Me   \n",
       "\n",
       "              Date                          Featuring  \\\n",
       "0       2015-04-02                                 []   \n",
       "1       2015-04-02                                 []   \n",
       "2       2015-03-19                                 []   \n",
       "3       2015-04-02                                 []   \n",
       "4       2015-04-02                                 []   \n",
       "...            ...                                ...   \n",
       "246894         NaN                  ['Mako Iwamatsu']   \n",
       "246899  2011-11-20  ['Jennifer Lopez', 'Mick Jagger']   \n",
       "246907  2017-02-23                                 []   \n",
       "246908  2008-02-02                   ['Barack Obama']   \n",
       "246909         NaN                  ['Justin Bieber']   \n",
       "\n",
       "                                       Genre  \\\n",
       "0       ['Alternative/Indie', 'Hip-Hop/Rap']   \n",
       "1                            ['Hip-Hop/Rap']   \n",
       "2                            ['Hip-Hop/Rap']   \n",
       "3                            ['Hip-Hop/Rap']   \n",
       "4                            ['Hip-Hop/Rap']   \n",
       "...                                      ...   \n",
       "246894                       ['Hip-Hop/Rap']   \n",
       "246899                ['Pop', 'Hip-Hop/Rap']   \n",
       "246907                       ['Hip-Hop/Rap']   \n",
       "246908                       ['Hip-Hop/Rap']   \n",
       "246909                ['Pop', 'Hip-Hop/Rap']   \n",
       "\n",
       "                                                   Lyrics  \\\n",
       "0           gangsta pat killer  killer  killer what th...   \n",
       "1         uh     yah  uhhhh       motherfucker west ba...   \n",
       "2         produced by budd dwyer    frayser boy hit th...   \n",
       "3             yung  now counting sheep until i m sound...   \n",
       "4             ruby da cherry fucking ruby got a blunt ...   \n",
       "...                                                   ...   \n",
       "246894      aku long ago in a distant land  i  aku  th...   \n",
       "246899    chorus  jennifer lopez   will i am you can g...   \n",
       "246907      niko   told y’all niggas to stand down  sh...   \n",
       "246908      all obama lyrics are sampled from a campai...   \n",
       "246909      will i am   justin bieber that twitter lov...   \n",
       "\n",
       "                                        Tags  \\\n",
       "0                     ['Alternative', 'Rap']   \n",
       "1                                    ['Rap']   \n",
       "2                                    ['Rap']   \n",
       "3                                    ['Rap']   \n",
       "4                                    ['Rap']   \n",
       "...                                      ...   \n",
       "246894                               ['Rap']   \n",
       "246899          ['Electronic', 'Pop', 'Rap']   \n",
       "246907                               ['Rap']   \n",
       "246908                               ['Rap']   \n",
       "246909  ['Trap', 'Electronic', 'Pop', 'Rap']   \n",
       "\n",
       "                                         Producers  \\\n",
       "0                                     ['Jck Ruby']   \n",
       "1                                   ['Budd Dwyer']   \n",
       "2                                   ['Budd Dwyer']   \n",
       "3                                   ['Budd Dwyer']   \n",
       "4                                   ['Budd Dwyer']   \n",
       "...                                            ...   \n",
       "246894                                          []   \n",
       "246899  ['will.i.am', 'Dallas Austin', 'Audiobot']   \n",
       "246907                                          []   \n",
       "246908                               ['will.i.am']   \n",
       "246909                               ['will.i.am']   \n",
       "\n",
       "                                                  Writers  \n",
       "0               ['Scott Arceneaux Jr.', 'Aristos Petrou']  \n",
       "1       ['Scott Arceneaux Jr.', 'Aristos Petrou', 'Mas...  \n",
       "2               ['Scott Arceneaux Jr.', 'Aristos Petrou']  \n",
       "3               ['Scott Arceneaux Jr.', 'Aristos Petrou']  \n",
       "4               ['Scott Arceneaux Jr.', 'Aristos Petrou']  \n",
       "...                                                   ...  \n",
       "246894                                      ['will.i.am']  \n",
       "246899     ['Kenneth Oliver', 'Tanya Lacey', 'will.i.am']  \n",
       "246907                                      ['will.i.am']  \n",
       "246908                                      ['will.i.am']  \n",
       "246909                                                 []  \n",
       "\n",
       "[61204 rows x 10 columns]"
      ]
     },
     "execution_count": 674,
     "metadata": {},
     "output_type": "execute_result"
    }
   ],
   "source": [
    "df3"
   ]
  },
  {
   "cell_type": "code",
   "execution_count": 676,
   "metadata": {
    "ExecuteTime": {
     "end_time": "2020-02-26T22:55:19.450742Z",
     "start_time": "2020-02-26T22:55:07.299027Z"
    }
   },
   "outputs": [
    {
     "name": "stderr",
     "output_type": "stream",
     "text": [
      "/Applications/anaconda3/lib/python3.7/site-packages/ipykernel_launcher.py:1: SettingWithCopyWarning: \n",
      "A value is trying to be set on a copy of a slice from a DataFrame.\n",
      "Try using .loc[row_indexer,col_indexer] = value instead\n",
      "\n",
      "See the caveats in the documentation: http://pandas.pydata.org/pandas-docs/stable/user_guide/indexing.html#returning-a-view-versus-a-copy\n",
      "  \"\"\"Entry point for launching an IPython kernel.\n",
      "/Applications/anaconda3/lib/python3.7/site-packages/ipykernel_launcher.py:2: SettingWithCopyWarning: \n",
      "A value is trying to be set on a copy of a slice from a DataFrame.\n",
      "Try using .loc[row_indexer,col_indexer] = value instead\n",
      "\n",
      "See the caveats in the documentation: http://pandas.pydata.org/pandas-docs/stable/user_guide/indexing.html#returning-a-view-versus-a-copy\n",
      "  \n",
      "/Applications/anaconda3/lib/python3.7/site-packages/ipykernel_launcher.py:3: SettingWithCopyWarning: \n",
      "A value is trying to be set on a copy of a slice from a DataFrame.\n",
      "Try using .loc[row_indexer,col_indexer] = value instead\n",
      "\n",
      "See the caveats in the documentation: http://pandas.pydata.org/pandas-docs/stable/user_guide/indexing.html#returning-a-view-versus-a-copy\n",
      "  This is separate from the ipykernel package so we can avoid doing imports until\n",
      "/Applications/anaconda3/lib/python3.7/site-packages/ipykernel_launcher.py:4: SettingWithCopyWarning: \n",
      "A value is trying to be set on a copy of a slice from a DataFrame.\n",
      "Try using .loc[row_indexer,col_indexer] = value instead\n",
      "\n",
      "See the caveats in the documentation: http://pandas.pydata.org/pandas-docs/stable/user_guide/indexing.html#returning-a-view-versus-a-copy\n",
      "  after removing the cwd from sys.path.\n"
     ]
    },
    {
     "data": {
      "text/html": [
       "<div>\n",
       "<style scoped>\n",
       "    .dataframe tbody tr th:only-of-type {\n",
       "        vertical-align: middle;\n",
       "    }\n",
       "\n",
       "    .dataframe tbody tr th {\n",
       "        vertical-align: top;\n",
       "    }\n",
       "\n",
       "    .dataframe thead th {\n",
       "        text-align: right;\n",
       "    }\n",
       "</style>\n",
       "<table border=\"1\" class=\"dataframe\">\n",
       "  <thead>\n",
       "    <tr style=\"text-align: right;\">\n",
       "      <th></th>\n",
       "      <th>Singer</th>\n",
       "      <th>Album</th>\n",
       "      <th>Song</th>\n",
       "      <th>Date</th>\n",
       "      <th>Featuring</th>\n",
       "      <th>Genre</th>\n",
       "      <th>Lyrics</th>\n",
       "      <th>Tags</th>\n",
       "      <th>Producers</th>\n",
       "      <th>Writers</th>\n",
       "      <th>#characters</th>\n",
       "      <th>#words</th>\n",
       "      <th>#uniq_words</th>\n",
       "      <th>lexical_density</th>\n",
       "    </tr>\n",
       "  </thead>\n",
       "  <tbody>\n",
       "    <tr>\n",
       "      <td>0</td>\n",
       "      <td>$UICIDEBOY$</td>\n",
       "      <td>7th or St. Tammany</td>\n",
       "      <td>40 Oz. &amp; Sober</td>\n",
       "      <td>2015-04-02</td>\n",
       "      <td>[]</td>\n",
       "      <td>['Alternative/Indie', 'Hip-Hop/Rap']</td>\n",
       "      <td>gangsta pat killer  killer  killer what th...</td>\n",
       "      <td>['Alternative', 'Rap']</td>\n",
       "      <td>['Jck Ruby']</td>\n",
       "      <td>['Scott Arceneaux Jr.', 'Aristos Petrou']</td>\n",
       "      <td>2281</td>\n",
       "      <td>434</td>\n",
       "      <td>156</td>\n",
       "      <td>0.36</td>\n",
       "    </tr>\n",
       "    <tr>\n",
       "      <td>1</td>\n",
       "      <td>$UICIDEBOY$</td>\n",
       "      <td>7th or St. Tammany</td>\n",
       "      <td>7th or St. Tammany</td>\n",
       "      <td>2015-04-02</td>\n",
       "      <td>[]</td>\n",
       "      <td>['Hip-Hop/Rap']</td>\n",
       "      <td>uh     yah  uhhhh       motherfucker west ba...</td>\n",
       "      <td>['Rap']</td>\n",
       "      <td>['Budd Dwyer']</td>\n",
       "      <td>['Scott Arceneaux Jr.', 'Aristos Petrou', 'Mas...</td>\n",
       "      <td>443</td>\n",
       "      <td>78</td>\n",
       "      <td>22</td>\n",
       "      <td>0.28</td>\n",
       "    </tr>\n",
       "    <tr>\n",
       "      <td>2</td>\n",
       "      <td>$UICIDEBOY$</td>\n",
       "      <td>7th or St. Tammany</td>\n",
       "      <td>Dead Batteries</td>\n",
       "      <td>2015-03-19</td>\n",
       "      <td>[]</td>\n",
       "      <td>['Hip-Hop/Rap']</td>\n",
       "      <td>produced by budd dwyer    frayser boy hit th...</td>\n",
       "      <td>['Rap']</td>\n",
       "      <td>['Budd Dwyer']</td>\n",
       "      <td>['Scott Arceneaux Jr.', 'Aristos Petrou']</td>\n",
       "      <td>2097</td>\n",
       "      <td>403</td>\n",
       "      <td>154</td>\n",
       "      <td>0.38</td>\n",
       "    </tr>\n",
       "    <tr>\n",
       "      <td>3</td>\n",
       "      <td>$UICIDEBOY$</td>\n",
       "      <td>7th or St. Tammany</td>\n",
       "      <td>Drugs/Hoes/Money/Etc.</td>\n",
       "      <td>2015-04-02</td>\n",
       "      <td>[]</td>\n",
       "      <td>['Hip-Hop/Rap']</td>\n",
       "      <td>yung  now counting sheep until i m sound...</td>\n",
       "      <td>['Rap']</td>\n",
       "      <td>['Budd Dwyer']</td>\n",
       "      <td>['Scott Arceneaux Jr.', 'Aristos Petrou']</td>\n",
       "      <td>1195</td>\n",
       "      <td>246</td>\n",
       "      <td>139</td>\n",
       "      <td>0.57</td>\n",
       "    </tr>\n",
       "    <tr>\n",
       "      <td>4</td>\n",
       "      <td>$UICIDEBOY$</td>\n",
       "      <td>7th or St. Tammany</td>\n",
       "      <td>I’ll Pay for It (If I Want It)</td>\n",
       "      <td>2015-04-02</td>\n",
       "      <td>[]</td>\n",
       "      <td>['Hip-Hop/Rap']</td>\n",
       "      <td>ruby da cherry fucking ruby got a blunt ...</td>\n",
       "      <td>['Rap']</td>\n",
       "      <td>['Budd Dwyer']</td>\n",
       "      <td>['Scott Arceneaux Jr.', 'Aristos Petrou']</td>\n",
       "      <td>1254</td>\n",
       "      <td>252</td>\n",
       "      <td>149</td>\n",
       "      <td>0.59</td>\n",
       "    </tr>\n",
       "    <tr>\n",
       "      <td>...</td>\n",
       "      <td>...</td>\n",
       "      <td>...</td>\n",
       "      <td>...</td>\n",
       "      <td>...</td>\n",
       "      <td>...</td>\n",
       "      <td>...</td>\n",
       "      <td>...</td>\n",
       "      <td>...</td>\n",
       "      <td>...</td>\n",
       "      <td>...</td>\n",
       "      <td>...</td>\n",
       "      <td>...</td>\n",
       "      <td>...</td>\n",
       "      <td>...</td>\n",
       "    </tr>\n",
       "    <tr>\n",
       "      <td>246894</td>\n",
       "      <td>will.i.am</td>\n",
       "      <td>NaN</td>\n",
       "      <td>Samurai Jack - Theme Song</td>\n",
       "      <td>NaN</td>\n",
       "      <td>['Mako Iwamatsu']</td>\n",
       "      <td>['Hip-Hop/Rap']</td>\n",
       "      <td>aku long ago in a distant land  i  aku  th...</td>\n",
       "      <td>['Rap']</td>\n",
       "      <td>[]</td>\n",
       "      <td>['will.i.am']</td>\n",
       "      <td>530</td>\n",
       "      <td>99</td>\n",
       "      <td>64</td>\n",
       "      <td>0.65</td>\n",
       "    </tr>\n",
       "    <tr>\n",
       "      <td>246899</td>\n",
       "      <td>will.i.am</td>\n",
       "      <td>NaN</td>\n",
       "      <td>T.H.E. (The Hardest Ever)</td>\n",
       "      <td>2011-11-20</td>\n",
       "      <td>['Jennifer Lopez', 'Mick Jagger']</td>\n",
       "      <td>['Pop', 'Hip-Hop/Rap']</td>\n",
       "      <td>chorus  jennifer lopez   will i am you can g...</td>\n",
       "      <td>['Electronic', 'Pop', 'Rap']</td>\n",
       "      <td>['will.i.am', 'Dallas Austin', 'Audiobot']</td>\n",
       "      <td>['Kenneth Oliver', 'Tanya Lacey', 'will.i.am']</td>\n",
       "      <td>3227</td>\n",
       "      <td>732</td>\n",
       "      <td>174</td>\n",
       "      <td>0.24</td>\n",
       "    </tr>\n",
       "    <tr>\n",
       "      <td>246907</td>\n",
       "      <td>will.i.am</td>\n",
       "      <td>NaN</td>\n",
       "      <td>Will.i.am</td>\n",
       "      <td>2017-02-23</td>\n",
       "      <td>[]</td>\n",
       "      <td>['Hip-Hop/Rap']</td>\n",
       "      <td>niko   told y’all niggas to stand down  sh...</td>\n",
       "      <td>['Rap']</td>\n",
       "      <td>[]</td>\n",
       "      <td>['will.i.am']</td>\n",
       "      <td>1376</td>\n",
       "      <td>272</td>\n",
       "      <td>102</td>\n",
       "      <td>0.38</td>\n",
       "    </tr>\n",
       "    <tr>\n",
       "      <td>246908</td>\n",
       "      <td>will.i.am</td>\n",
       "      <td>NaN</td>\n",
       "      <td>Yes We Can</td>\n",
       "      <td>2008-02-02</td>\n",
       "      <td>['Barack Obama']</td>\n",
       "      <td>['Hip-Hop/Rap']</td>\n",
       "      <td>all obama lyrics are sampled from a campai...</td>\n",
       "      <td>['Rap']</td>\n",
       "      <td>['will.i.am']</td>\n",
       "      <td>['will.i.am']</td>\n",
       "      <td>2989</td>\n",
       "      <td>558</td>\n",
       "      <td>193</td>\n",
       "      <td>0.35</td>\n",
       "    </tr>\n",
       "    <tr>\n",
       "      <td>246909</td>\n",
       "      <td>will.i.am</td>\n",
       "      <td>NaN</td>\n",
       "      <td>You And Me</td>\n",
       "      <td>NaN</td>\n",
       "      <td>['Justin Bieber']</td>\n",
       "      <td>['Pop', 'Hip-Hop/Rap']</td>\n",
       "      <td>will i am   justin bieber that twitter lov...</td>\n",
       "      <td>['Trap', 'Electronic', 'Pop', 'Rap']</td>\n",
       "      <td>['will.i.am']</td>\n",
       "      <td>[]</td>\n",
       "      <td>1978</td>\n",
       "      <td>402</td>\n",
       "      <td>149</td>\n",
       "      <td>0.37</td>\n",
       "    </tr>\n",
       "  </tbody>\n",
       "</table>\n",
       "<p>61204 rows × 14 columns</p>\n",
       "</div>"
      ],
      "text/plain": [
       "             Singer               Album                            Song  \\\n",
       "0       $UICIDEBOY$  7th or St. Tammany                  40 Oz. & Sober   \n",
       "1       $UICIDEBOY$  7th or St. Tammany              7th or St. Tammany   \n",
       "2       $UICIDEBOY$  7th or St. Tammany                  Dead Batteries   \n",
       "3       $UICIDEBOY$  7th or St. Tammany           Drugs/Hoes/Money/Etc.   \n",
       "4       $UICIDEBOY$  7th or St. Tammany  I’ll Pay for It (If I Want It)   \n",
       "...             ...                 ...                             ...   \n",
       "246894    will.i.am                 NaN       Samurai Jack - Theme Song   \n",
       "246899    will.i.am                 NaN       T.H.E. (The Hardest Ever)   \n",
       "246907    will.i.am                 NaN                       Will.i.am   \n",
       "246908    will.i.am                 NaN                      Yes We Can   \n",
       "246909    will.i.am                 NaN                      You And Me   \n",
       "\n",
       "              Date                          Featuring  \\\n",
       "0       2015-04-02                                 []   \n",
       "1       2015-04-02                                 []   \n",
       "2       2015-03-19                                 []   \n",
       "3       2015-04-02                                 []   \n",
       "4       2015-04-02                                 []   \n",
       "...            ...                                ...   \n",
       "246894         NaN                  ['Mako Iwamatsu']   \n",
       "246899  2011-11-20  ['Jennifer Lopez', 'Mick Jagger']   \n",
       "246907  2017-02-23                                 []   \n",
       "246908  2008-02-02                   ['Barack Obama']   \n",
       "246909         NaN                  ['Justin Bieber']   \n",
       "\n",
       "                                       Genre  \\\n",
       "0       ['Alternative/Indie', 'Hip-Hop/Rap']   \n",
       "1                            ['Hip-Hop/Rap']   \n",
       "2                            ['Hip-Hop/Rap']   \n",
       "3                            ['Hip-Hop/Rap']   \n",
       "4                            ['Hip-Hop/Rap']   \n",
       "...                                      ...   \n",
       "246894                       ['Hip-Hop/Rap']   \n",
       "246899                ['Pop', 'Hip-Hop/Rap']   \n",
       "246907                       ['Hip-Hop/Rap']   \n",
       "246908                       ['Hip-Hop/Rap']   \n",
       "246909                ['Pop', 'Hip-Hop/Rap']   \n",
       "\n",
       "                                                   Lyrics  \\\n",
       "0           gangsta pat killer  killer  killer what th...   \n",
       "1         uh     yah  uhhhh       motherfucker west ba...   \n",
       "2         produced by budd dwyer    frayser boy hit th...   \n",
       "3             yung  now counting sheep until i m sound...   \n",
       "4             ruby da cherry fucking ruby got a blunt ...   \n",
       "...                                                   ...   \n",
       "246894      aku long ago in a distant land  i  aku  th...   \n",
       "246899    chorus  jennifer lopez   will i am you can g...   \n",
       "246907      niko   told y’all niggas to stand down  sh...   \n",
       "246908      all obama lyrics are sampled from a campai...   \n",
       "246909      will i am   justin bieber that twitter lov...   \n",
       "\n",
       "                                        Tags  \\\n",
       "0                     ['Alternative', 'Rap']   \n",
       "1                                    ['Rap']   \n",
       "2                                    ['Rap']   \n",
       "3                                    ['Rap']   \n",
       "4                                    ['Rap']   \n",
       "...                                      ...   \n",
       "246894                               ['Rap']   \n",
       "246899          ['Electronic', 'Pop', 'Rap']   \n",
       "246907                               ['Rap']   \n",
       "246908                               ['Rap']   \n",
       "246909  ['Trap', 'Electronic', 'Pop', 'Rap']   \n",
       "\n",
       "                                         Producers  \\\n",
       "0                                     ['Jck Ruby']   \n",
       "1                                   ['Budd Dwyer']   \n",
       "2                                   ['Budd Dwyer']   \n",
       "3                                   ['Budd Dwyer']   \n",
       "4                                   ['Budd Dwyer']   \n",
       "...                                            ...   \n",
       "246894                                          []   \n",
       "246899  ['will.i.am', 'Dallas Austin', 'Audiobot']   \n",
       "246907                                          []   \n",
       "246908                               ['will.i.am']   \n",
       "246909                               ['will.i.am']   \n",
       "\n",
       "                                                  Writers  #characters  \\\n",
       "0               ['Scott Arceneaux Jr.', 'Aristos Petrou']         2281   \n",
       "1       ['Scott Arceneaux Jr.', 'Aristos Petrou', 'Mas...          443   \n",
       "2               ['Scott Arceneaux Jr.', 'Aristos Petrou']         2097   \n",
       "3               ['Scott Arceneaux Jr.', 'Aristos Petrou']         1195   \n",
       "4               ['Scott Arceneaux Jr.', 'Aristos Petrou']         1254   \n",
       "...                                                   ...          ...   \n",
       "246894                                      ['will.i.am']          530   \n",
       "246899     ['Kenneth Oliver', 'Tanya Lacey', 'will.i.am']         3227   \n",
       "246907                                      ['will.i.am']         1376   \n",
       "246908                                      ['will.i.am']         2989   \n",
       "246909                                                 []         1978   \n",
       "\n",
       "        #words  #uniq_words  lexical_density  \n",
       "0          434          156             0.36  \n",
       "1           78           22             0.28  \n",
       "2          403          154             0.38  \n",
       "3          246          139             0.57  \n",
       "4          252          149             0.59  \n",
       "...        ...          ...              ...  \n",
       "246894      99           64             0.65  \n",
       "246899     732          174             0.24  \n",
       "246907     272          102             0.38  \n",
       "246908     558          193             0.35  \n",
       "246909     402          149             0.37  \n",
       "\n",
       "[61204 rows x 14 columns]"
      ]
     },
     "execution_count": 676,
     "metadata": {},
     "output_type": "execute_result"
    }
   ],
   "source": [
    "df3['#characters'] = df3.Lyrics.str.len()\n",
    "df3['#words'] = df3.Lyrics.str.split().str.len()\n",
    "df3['#uniq_words'] = df3.Lyrics.apply(lambda x: len(set(x.split())))\n",
    "df3['lexical_density'] = df3['#uniq_words'] / df3['#words']\n",
    "df3"
   ]
  },
  {
   "cell_type": "code",
   "execution_count": 679,
   "metadata": {
    "ExecuteTime": {
     "end_time": "2020-02-26T22:58:30.155779Z",
     "start_time": "2020-02-26T22:58:30.133913Z"
    }
   },
   "outputs": [
    {
     "data": {
      "text/html": [
       "<div>\n",
       "<style scoped>\n",
       "    .dataframe tbody tr th:only-of-type {\n",
       "        vertical-align: middle;\n",
       "    }\n",
       "\n",
       "    .dataframe tbody tr th {\n",
       "        vertical-align: top;\n",
       "    }\n",
       "\n",
       "    .dataframe thead th {\n",
       "        text-align: right;\n",
       "    }\n",
       "</style>\n",
       "<table border=\"1\" class=\"dataframe\">\n",
       "  <thead>\n",
       "    <tr style=\"text-align: right;\">\n",
       "      <th></th>\n",
       "      <th>Singer</th>\n",
       "      <th>Album</th>\n",
       "      <th>Song</th>\n",
       "      <th>Date</th>\n",
       "      <th>Featuring</th>\n",
       "      <th>Genre</th>\n",
       "      <th>Lyrics</th>\n",
       "      <th>Tags</th>\n",
       "      <th>Producers</th>\n",
       "      <th>Writers</th>\n",
       "      <th>#characters</th>\n",
       "      <th>#words</th>\n",
       "      <th>#uniq_words</th>\n",
       "      <th>lexical_density</th>\n",
       "      <th>Year</th>\n",
       "    </tr>\n",
       "  </thead>\n",
       "  <tbody>\n",
       "    <tr>\n",
       "      <td>0</td>\n",
       "      <td>$UICIDEBOY$</td>\n",
       "      <td>7th or St. Tammany</td>\n",
       "      <td>40 Oz. &amp; Sober</td>\n",
       "      <td>2015-04-02</td>\n",
       "      <td>[]</td>\n",
       "      <td>['Alternative/Indie', 'Hip-Hop/Rap']</td>\n",
       "      <td>gangsta pat killer  killer  killer what th...</td>\n",
       "      <td>['Alternative', 'Rap']</td>\n",
       "      <td>['Jck Ruby']</td>\n",
       "      <td>['Scott Arceneaux Jr.', 'Aristos Petrou']</td>\n",
       "      <td>2281</td>\n",
       "      <td>434</td>\n",
       "      <td>156</td>\n",
       "      <td>0.36</td>\n",
       "      <td>2015</td>\n",
       "    </tr>\n",
       "    <tr>\n",
       "      <td>1</td>\n",
       "      <td>$UICIDEBOY$</td>\n",
       "      <td>7th or St. Tammany</td>\n",
       "      <td>7th or St. Tammany</td>\n",
       "      <td>2015-04-02</td>\n",
       "      <td>[]</td>\n",
       "      <td>['Hip-Hop/Rap']</td>\n",
       "      <td>uh     yah  uhhhh       motherfucker west ba...</td>\n",
       "      <td>['Rap']</td>\n",
       "      <td>['Budd Dwyer']</td>\n",
       "      <td>['Scott Arceneaux Jr.', 'Aristos Petrou', 'Mas...</td>\n",
       "      <td>443</td>\n",
       "      <td>78</td>\n",
       "      <td>22</td>\n",
       "      <td>0.28</td>\n",
       "      <td>2015</td>\n",
       "    </tr>\n",
       "    <tr>\n",
       "      <td>2</td>\n",
       "      <td>$UICIDEBOY$</td>\n",
       "      <td>7th or St. Tammany</td>\n",
       "      <td>Dead Batteries</td>\n",
       "      <td>2015-03-19</td>\n",
       "      <td>[]</td>\n",
       "      <td>['Hip-Hop/Rap']</td>\n",
       "      <td>produced by budd dwyer    frayser boy hit th...</td>\n",
       "      <td>['Rap']</td>\n",
       "      <td>['Budd Dwyer']</td>\n",
       "      <td>['Scott Arceneaux Jr.', 'Aristos Petrou']</td>\n",
       "      <td>2097</td>\n",
       "      <td>403</td>\n",
       "      <td>154</td>\n",
       "      <td>0.38</td>\n",
       "      <td>2015</td>\n",
       "    </tr>\n",
       "    <tr>\n",
       "      <td>3</td>\n",
       "      <td>$UICIDEBOY$</td>\n",
       "      <td>7th or St. Tammany</td>\n",
       "      <td>Drugs/Hoes/Money/Etc.</td>\n",
       "      <td>2015-04-02</td>\n",
       "      <td>[]</td>\n",
       "      <td>['Hip-Hop/Rap']</td>\n",
       "      <td>yung  now counting sheep until i m sound...</td>\n",
       "      <td>['Rap']</td>\n",
       "      <td>['Budd Dwyer']</td>\n",
       "      <td>['Scott Arceneaux Jr.', 'Aristos Petrou']</td>\n",
       "      <td>1195</td>\n",
       "      <td>246</td>\n",
       "      <td>139</td>\n",
       "      <td>0.57</td>\n",
       "      <td>2015</td>\n",
       "    </tr>\n",
       "    <tr>\n",
       "      <td>4</td>\n",
       "      <td>$UICIDEBOY$</td>\n",
       "      <td>7th or St. Tammany</td>\n",
       "      <td>I’ll Pay for It (If I Want It)</td>\n",
       "      <td>2015-04-02</td>\n",
       "      <td>[]</td>\n",
       "      <td>['Hip-Hop/Rap']</td>\n",
       "      <td>ruby da cherry fucking ruby got a blunt ...</td>\n",
       "      <td>['Rap']</td>\n",
       "      <td>['Budd Dwyer']</td>\n",
       "      <td>['Scott Arceneaux Jr.', 'Aristos Petrou']</td>\n",
       "      <td>1254</td>\n",
       "      <td>252</td>\n",
       "      <td>149</td>\n",
       "      <td>0.59</td>\n",
       "      <td>2015</td>\n",
       "    </tr>\n",
       "  </tbody>\n",
       "</table>\n",
       "</div>"
      ],
      "text/plain": [
       "        Singer               Album                            Song  \\\n",
       "0  $UICIDEBOY$  7th or St. Tammany                  40 Oz. & Sober   \n",
       "1  $UICIDEBOY$  7th or St. Tammany              7th or St. Tammany   \n",
       "2  $UICIDEBOY$  7th or St. Tammany                  Dead Batteries   \n",
       "3  $UICIDEBOY$  7th or St. Tammany           Drugs/Hoes/Money/Etc.   \n",
       "4  $UICIDEBOY$  7th or St. Tammany  I’ll Pay for It (If I Want It)   \n",
       "\n",
       "         Date Featuring                                 Genre  \\\n",
       "0  2015-04-02        []  ['Alternative/Indie', 'Hip-Hop/Rap']   \n",
       "1  2015-04-02        []                       ['Hip-Hop/Rap']   \n",
       "2  2015-03-19        []                       ['Hip-Hop/Rap']   \n",
       "3  2015-04-02        []                       ['Hip-Hop/Rap']   \n",
       "4  2015-04-02        []                       ['Hip-Hop/Rap']   \n",
       "\n",
       "                                              Lyrics                    Tags  \\\n",
       "0      gangsta pat killer  killer  killer what th...  ['Alternative', 'Rap']   \n",
       "1    uh     yah  uhhhh       motherfucker west ba...                 ['Rap']   \n",
       "2    produced by budd dwyer    frayser boy hit th...                 ['Rap']   \n",
       "3        yung  now counting sheep until i m sound...                 ['Rap']   \n",
       "4        ruby da cherry fucking ruby got a blunt ...                 ['Rap']   \n",
       "\n",
       "        Producers                                            Writers  \\\n",
       "0    ['Jck Ruby']          ['Scott Arceneaux Jr.', 'Aristos Petrou']   \n",
       "1  ['Budd Dwyer']  ['Scott Arceneaux Jr.', 'Aristos Petrou', 'Mas...   \n",
       "2  ['Budd Dwyer']          ['Scott Arceneaux Jr.', 'Aristos Petrou']   \n",
       "3  ['Budd Dwyer']          ['Scott Arceneaux Jr.', 'Aristos Petrou']   \n",
       "4  ['Budd Dwyer']          ['Scott Arceneaux Jr.', 'Aristos Petrou']   \n",
       "\n",
       "   #characters  #words  #uniq_words  lexical_density  Year  \n",
       "0         2281     434          156             0.36  2015  \n",
       "1          443      78           22             0.28  2015  \n",
       "2         2097     403          154             0.38  2015  \n",
       "3         1195     246          139             0.57  2015  \n",
       "4         1254     252          149             0.59  2015  "
      ]
     },
     "execution_count": 679,
     "metadata": {},
     "output_type": "execute_result"
    }
   ],
   "source": [
    "df3['Year'] = df3['Date'].str[:4]\n",
    "\n",
    "df3.head()"
   ]
  },
  {
   "cell_type": "code",
   "execution_count": 685,
   "metadata": {
    "ExecuteTime": {
     "end_time": "2020-02-26T23:06:02.641176Z",
     "start_time": "2020-02-26T23:06:02.599739Z"
    }
   },
   "outputs": [],
   "source": [
    "df_words = df3.groupby('Year', as_index = False).agg({'#characters': 'median', '#words': 'median', '#uniq_words': 'median'})\n",
    "df_words.drop(df_words[df_words['Year'] == '2021'].index, inplace=True)"
   ]
  },
  {
   "cell_type": "code",
   "execution_count": 690,
   "metadata": {
    "ExecuteTime": {
     "end_time": "2020-02-26T23:09:33.577897Z",
     "start_time": "2020-02-26T23:09:32.730299Z"
    }
   },
   "outputs": [
    {
     "data": {
      "image/png": "[encoded data removed]",
      "text/plain": [
       "<Figure size 864x504 with 1 Axes>"
      ]
     },
     "metadata": {
      "needs_background": "light"
     },
     "output_type": "display_data"
    }
   ],
   "source": [
    "plt.figure(figsize = [12,7])\n",
    "plt.plot(df_words.Year, df_words['#uniq_words'], label = 'Unique Words')\n",
    "plt.plot(df_words.Year, df_words['#words'], label = 'Word Counts')\n",
    "plt.legend()\n",
    "\n",
    "plt.xticks(rotation = 90);"
   ]
  },
  {
   "cell_type": "code",
   "execution_count": 625,
   "metadata": {
    "ExecuteTime": {
     "end_time": "2020-02-26T21:22:42.138421Z",
     "start_time": "2020-02-26T21:10:23.386758Z"
    }
   },
   "outputs": [
    {
     "name": "stderr",
     "output_type": "stream",
     "text": [
      "/Applications/anaconda3/lib/python3.7/site-packages/ipykernel_launcher.py:11: SettingWithCopyWarning: \n",
      "A value is trying to be set on a copy of a slice from a DataFrame.\n",
      "Try using .loc[row_indexer,col_indexer] = value instead\n",
      "\n",
      "See the caveats in the documentation: http://pandas.pydata.org/pandas-docs/stable/user_guide/indexing.html#returning-a-view-versus-a-copy\n",
      "  # This is added back by InteractiveShellApp.init_path()\n"
     ]
    }
   ],
   "source": [
    "from langdetect import detect\n",
    "\n",
    "def langdet(s):\n",
    "    try:\n",
    "        return detect(s)\n",
    "    except:\n",
    "        return np.nan\n",
    "    \n",
    "\n",
    "\n",
    "df3['lang'] = df3['part_lyrics'].apply(langdet)"
   ]
  },
  {
   "cell_type": "markdown",
   "metadata": {},
   "source": [
    "## Recommendation based on song lyrics"
   ]
  },
  {
   "cell_type": "code",
   "execution_count": 779,
   "metadata": {
    "ExecuteTime": {
     "end_time": "2020-02-27T21:18:36.096959Z",
     "start_time": "2020-02-27T21:17:43.690327Z"
    }
   },
   "outputs": [],
   "source": [
    "from sklearn.metrics import pairwise_distances\n",
    "d = pairwise_distances(list(rap_df['top_coef']),metric='cosine')"
   ]
  },
  {
   "cell_type": "code",
   "execution_count": 786,
   "metadata": {
    "ExecuteTime": {
     "end_time": "2020-02-27T21:23:27.153177Z",
     "start_time": "2020-02-27T21:23:27.145511Z"
    }
   },
   "outputs": [
    {
     "data": {
      "text/plain": [
       "(25272, 25272)"
      ]
     },
     "execution_count": 786,
     "metadata": {},
     "output_type": "execute_result"
    }
   ],
   "source": [
    "d.shape"
   ]
  },
  {
   "cell_type": "code",
   "execution_count": 883,
   "metadata": {
    "ExecuteTime": {
     "end_time": "2020-02-27T22:23:19.879251Z",
     "start_time": "2020-02-27T22:23:19.872249Z"
    }
   },
   "outputs": [],
   "source": [
    "def recommend(artist, song):\n",
    "    index = rap_df[(rap_df.Singer == artist) & (rap_df.Song == song)].index[0]\n",
    "    for rec in d[index].argsort()[1:6]:\n",
    "        print(rap_df.iloc[rec, 0:5], '\\n')\n",
    "    "
   ]
  },
  {
   "cell_type": "code",
   "execution_count": 885,
   "metadata": {
    "ExecuteTime": {
     "end_time": "2020-02-27T22:24:21.103708Z",
     "start_time": "2020-02-27T22:24:21.079358Z"
    }
   },
   "outputs": [
    {
     "name": "stdout",
     "output_type": "stream",
     "text": [
      "Singer       Aaron Cole\n",
      "Album     NOT BY CHANCE\n",
      "Song       CASSIUS CLAY\n",
      "Year               2019\n",
      "Date         2019-08-30\n",
      "Name: 1278, dtype: object \n",
      "\n",
      "Singer           PARTYNEXTDOOR\n",
      "Album     Jahron B. Collection\n",
      "Song             Table For Two\n",
      "Year                      2011\n",
      "Date                2011-02-17\n",
      "Name: 16130, dtype: object \n",
      "\n",
      "Singer           Kelis\n",
      "Album     Kaleidoscope\n",
      "Song        Good Stuff\n",
      "Year              1999\n",
      "Date        1999-12-07\n",
      "Name: 10575, dtype: object \n",
      "\n",
      "Singer                  Macklemore\n",
      "Album     The Language of My World\n",
      "Song          Remember High School\n",
      "Year                          2005\n",
      "Date                    2005-10-10\n",
      "Name: 13648, dtype: object \n",
      "\n",
      "Singer                                       LMFAO\n",
      "Album     Sorry for Party Rocking (Deluxe Version)\n",
      "Song                                    Best Night\n",
      "Year                                          2011\n",
      "Date                                    2011-06-17\n",
      "Name: 11384, dtype: object \n",
      "\n"
     ]
    }
   ],
   "source": [
    "recommend('Nelly', 'Dilemma (Jermaine Dupri Remix)')"
   ]
  },
  {
   "cell_type": "code",
   "execution_count": 900,
   "metadata": {
    "ExecuteTime": {
     "end_time": "2020-02-27T22:40:42.746416Z",
     "start_time": "2020-02-27T22:40:42.719232Z"
    }
   },
   "outputs": [
    {
     "name": "stdout",
     "output_type": "stream",
     "text": [
      "Singer                   Wale\n",
      "Album     Back to the Feature\n",
      "Song                  Chillin\n",
      "Year                     2009\n",
      "Date               2009-04-14\n",
      "Name: 22735, dtype: object \n",
      "\n",
      "Singer          Chief Keef\n",
      "Album     The Leek, Vol. 3\n",
      "Song            This Bitch\n",
      "Year                  2015\n",
      "Date            2015-07-23\n",
      "Name: 3476, dtype: object \n",
      "\n",
      "Singer         Mustard\n",
      "Album      Cold Summer\n",
      "Song      Know My Name\n",
      "Year              2016\n",
      "Date        2016-09-30\n",
      "Name: 14888, dtype: object \n",
      "\n",
      "Singer            Lil Uzi Vert\n",
      "Album     The Perfect LUV Tape\n",
      "Song            Do What I Want\n",
      "Year                      2016\n",
      "Date                2016-07-31\n",
      "Name: 12099, dtype: object \n",
      "\n",
      "Singer       Hoodie Allen\n",
      "Album        All American\n",
      "Song      No Interruption\n",
      "Year                 2012\n",
      "Date           2012-03-29\n",
      "Name: 8284, dtype: object \n",
      "\n"
     ]
    }
   ],
   "source": [
    "recommend('Wiz Khalifa', 'Rolling Papers 2')"
   ]
  }
 ],
 "metadata": {
  "kernelspec": {
   "display_name": "Python 3",
   "language": "python",
   "name": "python3"
  },
  "language_info": {
   "codemirror_mode": {
    "name": "ipython",
    "version": 3
   },
   "file_extension": ".py",
   "mimetype": "text/x-python",
   "name": "python",
   "nbconvert_exporter": "python",
   "pygments_lexer": "ipython3",
   "version": "3.7.4"
  },
  "toc": {
   "base_numbering": 1,
   "nav_menu": {},
   "number_sections": true,
   "sideBar": true,
   "skip_h1_title": false,
   "title_cell": "Table of Contents",
   "title_sidebar": "Contents",
   "toc_cell": false,
   "toc_position": {
    "height": "calc(100% - 180px)",
    "left": "10px",
    "top": "150px",
    "width": "165px"
   },
   "toc_section_display": true,
   "toc_window_display": true
  }
 },
 "nbformat": 4,
 "nbformat_minor": 2
}
